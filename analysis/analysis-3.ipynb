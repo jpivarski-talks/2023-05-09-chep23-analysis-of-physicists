{
 "cells": [
  {
   "cell_type": "code",
   "execution_count": 6,
   "id": "799e16a1-6c36-4ec2-9b7b-a1731e7cccef",
   "metadata": {
    "tags": []
   },
   "outputs": [],
   "source": [
    "import json\n",
    "import ast"
   ]
  },
  {
   "cell_type": "code",
   "execution_count": 7,
   "id": "bc88fe23-a3c8-40a6-ae2d-4b0fafbae950",
   "metadata": {
    "tags": []
   },
   "outputs": [],
   "source": [
    "awkward_uproot_data = json.load(open(\"/home/jpivarski/storage/data/GitHub-all-user-nonfork-uproot-awkward.json\"))"
   ]
  },
  {
   "cell_type": "code",
   "execution_count": null,
   "id": "950a62e6-91b7-4c4c-9d0c-ab95f90fa62a",
   "metadata": {},
   "outputs": [],
   "source": []
  },
  {
   "cell_type": "code",
   "execution_count": 9,
   "id": "24eac076-3258-4d6b-9949-9895622f7f6a",
   "metadata": {
    "tags": []
   },
   "outputs": [],
   "source": [
    "syntax_tree = ast.parse(awkward_uproot_data[0][\"files\"][0][\"text\"])"
   ]
  },
  {
   "cell_type": "code",
   "execution_count": null,
   "id": "a524702e-560c-43c1-b3ed-386d6cca3736",
   "metadata": {},
   "outputs": [],
   "source": []
  }
 ],
 "metadata": {
  "kernelspec": {
   "display_name": "Python 3 (ipykernel)",
   "language": "python",
   "name": "python3"
  },
  "language_info": {
   "codemirror_mode": {
    "name": "ipython",
    "version": 3
   },
   "file_extension": ".py",
   "mimetype": "text/x-python",
   "name": "python",
   "nbconvert_exporter": "python",
   "pygments_lexer": "ipython3",
   "version": "3.9.15"
  }
 },
 "nbformat": 4,
 "nbformat_minor": 5
}
