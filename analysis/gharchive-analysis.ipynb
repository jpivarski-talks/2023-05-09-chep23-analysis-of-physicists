{
 "cells": [
  {
   "cell_type": "code",
   "execution_count": 1,
   "id": "6d1bc31d-73a2-450d-bade-92265212f7e9",
   "metadata": {
    "tags": []
   },
   "outputs": [],
   "source": [
    "import subprocess\n",
    "\n",
    "import h5py\n",
    "import numpy as np\n",
    "import pandas as pd"
   ]
  },
  {
   "cell_type": "code",
   "execution_count": 2,
   "id": "17378e47-47d7-48aa-b90b-d901f4a39195",
   "metadata": {
    "tags": []
   },
   "outputs": [],
   "source": [
    "file = h5py.File(\"/Users/jpivarski/storage/data/GHArchive/GHArchive-2022-aggregated.h5\")"
   ]
  },
  {
   "cell_type": "code",
   "execution_count": 3,
   "id": "989d6632-d0c4-4152-89df-e510e5c545a5",
   "metadata": {
    "tags": []
   },
   "outputs": [],
   "source": [
    "df = pd.DataFrame({\"actor\": file[\"actor_id\"], \"repo\": file[\"repo_id\"], \"type\": file[\"event_type_id\"], \"count\": file[\"count\"]})"
   ]
  },
  {
   "cell_type": "code",
   "execution_count": 4,
   "id": "5b40a094-b63a-4a01-a9b5-78ccbe7fdd4b",
   "metadata": {
    "tags": []
   },
   "outputs": [],
   "source": [
    "bot_actors = np.array(\n",
    "    [\n",
    "        int(line.split(b\"\\t\")[0])\n",
    "        for line in subprocess.Popen(\n",
    "            [\n",
    "                \"fgrep\",\n",
    "                \"[bot]\",\n",
    "                \"/Users/jpivarski/storage/data/GHArchive/actor_id_name.txt\",\n",
    "            ],\n",
    "            stdout=subprocess.PIPE,\n",
    "        )\n",
    "        .communicate()[0]\n",
    "        .split(b\"\\n\")\n",
    "        if line != b\"\"\n",
    "    ]\n",
    ")"
   ]
  },
  {
   "cell_type": "code",
   "execution_count": 5,
   "id": "dfa01593-4dc1-4c25-a8a1-149832137db8",
   "metadata": {
    "tags": []
   },
   "outputs": [],
   "source": [
    "df2 = df[~df.actor.isin(bot_actors)]"
   ]
  },
  {
   "cell_type": "code",
   "execution_count": 7,
   "id": "15886cdb-e8e4-4846-be35-3a9bf06bd726",
   "metadata": {
    "tags": []
   },
   "outputs": [],
   "source": [
    "event_type_to_id = {\n",
    "    \"CommitCommentEvent\":             1,\n",
    "    \"CreateEvent\":                    2,\n",
    "    \"DeleteEvent\":                    3,\n",
    "    \"DownloadEvent\":                  4,\n",
    "    # \"FollowEvent\":                    5,\n",
    "    # \"ForkApplyEvent\":                 6,\n",
    "    # \"ForkEvent\":                      7,\n",
    "    # \"GistEvent\":                      8,\n",
    "    # \"GollumEvent\":                    9,\n",
    "    \"IssueCommentEvent\":             10,\n",
    "    \"IssuesEvent\":                   11,\n",
    "    # \"MemberEvent\":                   12,\n",
    "    # \"PublicEvent\":                   13,\n",
    "    \"PullRequestEvent\":              14,\n",
    "    \"PullRequestReviewCommentEvent\": 15,\n",
    "    \"PullRequestReviewEvent\":        16,\n",
    "    \"PushEvent\":                     17,\n",
    "    \"ReleaseEvent\":                  18,\n",
    "    # \"TeamAddEvent\":                  19,\n",
    "    # \"WatchEvent\":                    20,\n",
    "}"
   ]
  },
  {
   "cell_type": "code",
   "execution_count": 8,
   "id": "636661da-2394-4c21-9934-14df6bb83d97",
   "metadata": {
    "tags": []
   },
   "outputs": [],
   "source": [
    "df3 = df2[df2.type.isin(event_type_to_id.values())].drop(columns=[\"type\"]).groupby([\"actor\", \"repo\"]).sum()"
   ]
  },
  {
   "cell_type": "code",
   "execution_count": 9,
   "id": "eb7a7e31-7198-45ea-862c-2fb9fe1ed886",
   "metadata": {
    "tags": []
   },
   "outputs": [
    {
     "data": {
      "text/html": [
       "<div>\n",
       "<style scoped>\n",
       "    .dataframe tbody tr th:only-of-type {\n",
       "        vertical-align: middle;\n",
       "    }\n",
       "\n",
       "    .dataframe tbody tr th {\n",
       "        vertical-align: top;\n",
       "    }\n",
       "\n",
       "    .dataframe thead th {\n",
       "        text-align: right;\n",
       "    }\n",
       "</style>\n",
       "<table border=\"1\" class=\"dataframe\">\n",
       "  <thead>\n",
       "    <tr style=\"text-align: right;\">\n",
       "      <th></th>\n",
       "      <th></th>\n",
       "      <th>count</th>\n",
       "    </tr>\n",
       "    <tr>\n",
       "      <th>actor</th>\n",
       "      <th>repo</th>\n",
       "      <th></th>\n",
       "    </tr>\n",
       "  </thead>\n",
       "  <tbody>\n",
       "    <tr>\n",
       "      <th rowspan=\"5\" valign=\"top\">0</th>\n",
       "      <th>32611596</th>\n",
       "      <td>3</td>\n",
       "    </tr>\n",
       "    <tr>\n",
       "      <th>54378638</th>\n",
       "      <td>1</td>\n",
       "    </tr>\n",
       "    <tr>\n",
       "      <th>56915933</th>\n",
       "      <td>1</td>\n",
       "    </tr>\n",
       "    <tr>\n",
       "      <th>65711522</th>\n",
       "      <td>1</td>\n",
       "    </tr>\n",
       "    <tr>\n",
       "      <th>79607905</th>\n",
       "      <td>1</td>\n",
       "    </tr>\n",
       "    <tr>\n",
       "      <th>...</th>\n",
       "      <th>...</th>\n",
       "      <td>...</td>\n",
       "    </tr>\n",
       "    <tr>\n",
       "      <th>121737330</th>\n",
       "      <th>584019097</th>\n",
       "      <td>2</td>\n",
       "    </tr>\n",
       "    <tr>\n",
       "      <th>121737333</th>\n",
       "      <th>584019433</th>\n",
       "      <td>2</td>\n",
       "    </tr>\n",
       "    <tr>\n",
       "      <th>121737340</th>\n",
       "      <th>584019333</th>\n",
       "      <td>2</td>\n",
       "    </tr>\n",
       "    <tr>\n",
       "      <th>121737357</th>\n",
       "      <th>584019416</th>\n",
       "      <td>1</td>\n",
       "    </tr>\n",
       "    <tr>\n",
       "      <th>121737371</th>\n",
       "      <th>584019399</th>\n",
       "      <td>2</td>\n",
       "    </tr>\n",
       "  </tbody>\n",
       "</table>\n",
       "<p>86449452 rows × 1 columns</p>\n",
       "</div>"
      ],
      "text/plain": [
       "                     count\n",
       "actor     repo            \n",
       "0         32611596       3\n",
       "          54378638       1\n",
       "          56915933       1\n",
       "          65711522       1\n",
       "          79607905       1\n",
       "...                    ...\n",
       "121737330 584019097      2\n",
       "121737333 584019433      2\n",
       "121737340 584019333      2\n",
       "121737357 584019416      1\n",
       "121737371 584019399      2\n",
       "\n",
       "[86449452 rows x 1 columns]"
      ]
     },
     "execution_count": 9,
     "metadata": {},
     "output_type": "execute_result"
    }
   ],
   "source": [
    "df3"
   ]
  },
  {
   "cell_type": "code",
   "execution_count": 10,
   "id": "95ef4bcd-8286-41cb-8104-f1d5c265ef6a",
   "metadata": {
    "tags": []
   },
   "outputs": [],
   "source": [
    "seed_repos = [int(x.rstrip(\"\\n\").split(\",\")[0]) for x in open(\"/Users/jpivarski/talks/2023-05-09-chep23-analysis-of-physicists/analysis/list-of-scientific-python-repo_id.csv\").readlines()[1:]]"
   ]
  },
  {
   "cell_type": "code",
   "execution_count": 12,
   "id": "fb9d8242-17b6-4387-aec2-c777bd46862a",
   "metadata": {
    "tags": []
   },
   "outputs": [],
   "source": [
    "df4 = df3.reset_index()"
   ]
  },
  {
   "cell_type": "code",
   "execution_count": 15,
   "id": "0bab3f2d-a610-4a00-b2bd-ec1169a7056c",
   "metadata": {
    "tags": []
   },
   "outputs": [],
   "source": [
    "df4_repos_0 = df4[df4.repo.isin(seed_repos)]"
   ]
  },
  {
   "cell_type": "code",
   "execution_count": 20,
   "id": "16fd5128-17d2-422b-8ec2-b32e23c4896f",
   "metadata": {
    "tags": []
   },
   "outputs": [],
   "source": [
    "df4_repos_1 = df4[df4.actor.isin(df4_repos_0.actor.values)]"
   ]
  },
  {
   "cell_type": "code",
   "execution_count": 22,
   "id": "05a7febb-c59c-48ef-80f5-a98225ba70cb",
   "metadata": {
    "tags": []
   },
   "outputs": [
    {
     "data": {
      "text/plain": [
       "(27666, 594790, 86449452)"
      ]
     },
     "execution_count": 22,
     "metadata": {},
     "output_type": "execute_result"
    }
   ],
   "source": [
    "len(df4_repos_0), len(df4_repos_1), len(df4)"
   ]
  },
  {
   "cell_type": "code",
   "execution_count": 23,
   "id": "bc499202-19ba-406d-9fec-7ce5746008ee",
   "metadata": {
    "tags": []
   },
   "outputs": [
    {
     "data": {
      "text/plain": [
       "(210, 446117, 73892130)"
      ]
     },
     "execution_count": 23,
     "metadata": {},
     "output_type": "execute_result"
    }
   ],
   "source": [
    "len(np.unique(df4_repos_0.repo)), len(np.unique(df4_repos_1.repo)), len(np.unique(df4.repo))"
   ]
  },
  {
   "cell_type": "code",
   "execution_count": 25,
   "id": "8dba2cf1-e0d6-4925-8da5-5eb731657838",
   "metadata": {
    "tags": []
   },
   "outputs": [
    {
     "data": {
      "text/plain": [
       "4407171"
      ]
     },
     "execution_count": 25,
     "metadata": {},
     "output_type": "execute_result"
    }
   ],
   "source": [
    "open(\"list-of-degree1-repos.txt\", \"w\").write(\"\\n\".join(str(x) for x in np.unique(df4_repos_1.repo)))"
   ]
  },
  {
   "cell_type": "code",
   "execution_count": 26,
   "id": "d234c65c-4a4b-43b7-bf53-6aa6fd7f340a",
   "metadata": {
    "tags": []
   },
   "outputs": [
    {
     "data": {
      "text/plain": [
       "446117"
      ]
     },
     "execution_count": 26,
     "metadata": {},
     "output_type": "execute_result"
    }
   ],
   "source": [
    "degree1 = set(df4_repos_1.repo)\n",
    "len(degree1)"
   ]
  },
  {
   "cell_type": "code",
   "execution_count": 27,
   "id": "36bbb2df-04b1-4ebc-8275-30a92115b514",
   "metadata": {
    "tags": []
   },
   "outputs": [],
   "source": [
    "degree1_id2name = {}\n",
    "\n",
    "for line in open(\"/Users/jpivarski/storage/data/GHArchive/repo_id_name.txt\"):\n",
    "    idstr, name = line[:-1].split(\"\\t\")\n",
    "    idnum = int(idstr)\n",
    "    if idnum in degree1:\n",
    "        degree1_id2name[idnum] = name"
   ]
  },
  {
   "cell_type": "code",
   "execution_count": 28,
   "id": "30c339ec-0c7c-493f-84c2-324f57893f0f",
   "metadata": {
    "tags": []
   },
   "outputs": [
    {
     "data": {
      "text/plain": [
       "True"
      ]
     },
     "execution_count": 28,
     "metadata": {},
     "output_type": "execute_result"
    }
   ],
   "source": [
    "set(degree1_id2name) == degree1"
   ]
  },
  {
   "cell_type": "code",
   "execution_count": 40,
   "id": "ac5d745a-de02-4cc8-8821-dfee9ebdb2f6",
   "metadata": {
    "tags": []
   },
   "outputs": [
    {
     "data": {
      "text/plain": [
       "17093691"
      ]
     },
     "execution_count": 40,
     "metadata": {},
     "output_type": "execute_result"
    }
   ],
   "source": [
    "open(\"list-of-degree1-repos.csv\", \"w\").write(\"\".join(f\"{idnum},{name},{df4_repos_1['count'][df4_repos_1.repo == idnum].values[0]}\\n\" for idnum, name in degree1_id2name.items()))"
   ]
  },
  {
   "cell_type": "code",
   "execution_count": null,
   "id": "9c724ac4-ba73-4d1f-a00e-fe3802aa7d06",
   "metadata": {},
   "outputs": [],
   "source": []
  },
  {
   "cell_type": "code",
   "execution_count": null,
   "id": "28574a5f-a84a-48a0-9405-6b237be11a0c",
   "metadata": {},
   "outputs": [],
   "source": []
  },
  {
   "cell_type": "code",
   "execution_count": null,
   "id": "f3b422ae-2fcb-4e9b-9aa2-fa463015a99d",
   "metadata": {},
   "outputs": [],
   "source": []
  },
  {
   "cell_type": "code",
   "execution_count": null,
   "id": "78099f0b-2162-4477-b5a5-fda33ed9c4d7",
   "metadata": {},
   "outputs": [],
   "source": []
  },
  {
   "cell_type": "code",
   "execution_count": null,
   "id": "de2bcc54-139f-4eda-bbd0-41a69b3c7854",
   "metadata": {},
   "outputs": [],
   "source": []
  },
  {
   "cell_type": "code",
   "execution_count": null,
   "id": "e121784e-671b-4803-ab69-1f2341c54a3b",
   "metadata": {},
   "outputs": [],
   "source": []
  },
  {
   "cell_type": "code",
   "execution_count": null,
   "id": "e208e4e7-3d65-49d2-9940-2247376c580e",
   "metadata": {},
   "outputs": [],
   "source": []
  },
  {
   "cell_type": "code",
   "execution_count": 7,
   "id": "c6d6f7b0-0dfa-472d-bc07-a0ec381801de",
   "metadata": {
    "tags": []
   },
   "outputs": [],
   "source": [
    "is_comment = (df.type == 10) | (df.type == 11) | (df.type == 15) | (df.type == 16)"
   ]
  },
  {
   "cell_type": "code",
   "execution_count": 9,
   "id": "7cf975ad-f292-409e-9db8-1c45e1034283",
   "metadata": {
    "tags": []
   },
   "outputs": [],
   "source": [
    "df_comment = df[is_comment].drop(columns=[\"type\"])"
   ]
  },
  {
   "cell_type": "code",
   "execution_count": 10,
   "id": "30f45fdb-2fef-45ff-bacd-fbc013de7f5b",
   "metadata": {
    "tags": []
   },
   "outputs": [
    {
     "data": {
      "text/html": [
       "<div>\n",
       "<style scoped>\n",
       "    .dataframe tbody tr th:only-of-type {\n",
       "        vertical-align: middle;\n",
       "    }\n",
       "\n",
       "    .dataframe tbody tr th {\n",
       "        vertical-align: top;\n",
       "    }\n",
       "\n",
       "    .dataframe thead th {\n",
       "        text-align: right;\n",
       "    }\n",
       "</style>\n",
       "<table border=\"1\" class=\"dataframe\">\n",
       "  <thead>\n",
       "    <tr style=\"text-align: right;\">\n",
       "      <th></th>\n",
       "      <th>actor</th>\n",
       "      <th>repo</th>\n",
       "      <th>count</th>\n",
       "    </tr>\n",
       "  </thead>\n",
       "  <tbody>\n",
       "    <tr>\n",
       "      <th>22</th>\n",
       "      <td>41347805</td>\n",
       "      <td>1</td>\n",
       "      <td>1</td>\n",
       "    </tr>\n",
       "    <tr>\n",
       "      <th>27</th>\n",
       "      <td>46025304</td>\n",
       "      <td>1</td>\n",
       "      <td>2</td>\n",
       "    </tr>\n",
       "    <tr>\n",
       "      <th>74</th>\n",
       "      <td>116427844</td>\n",
       "      <td>1</td>\n",
       "      <td>2</td>\n",
       "    </tr>\n",
       "    <tr>\n",
       "      <th>111</th>\n",
       "      <td>1595356</td>\n",
       "      <td>27</td>\n",
       "      <td>2</td>\n",
       "    </tr>\n",
       "    <tr>\n",
       "      <th>112</th>\n",
       "      <td>1595356</td>\n",
       "      <td>27</td>\n",
       "      <td>1</td>\n",
       "    </tr>\n",
       "    <tr>\n",
       "      <th>...</th>\n",
       "      <td>...</td>\n",
       "      <td>...</td>\n",
       "      <td>...</td>\n",
       "    </tr>\n",
       "    <tr>\n",
       "      <th>241048242</th>\n",
       "      <td>99094815</td>\n",
       "      <td>584016253</td>\n",
       "      <td>2</td>\n",
       "    </tr>\n",
       "    <tr>\n",
       "      <th>241048842</th>\n",
       "      <td>35613825</td>\n",
       "      <td>584017175</td>\n",
       "      <td>2</td>\n",
       "    </tr>\n",
       "    <tr>\n",
       "      <th>241048843</th>\n",
       "      <td>40209326</td>\n",
       "      <td>584017175</td>\n",
       "      <td>1</td>\n",
       "    </tr>\n",
       "    <tr>\n",
       "      <th>241048966</th>\n",
       "      <td>1580039</td>\n",
       "      <td>584017373</td>\n",
       "      <td>8</td>\n",
       "    </tr>\n",
       "    <tr>\n",
       "      <th>241048990</th>\n",
       "      <td>36114314</td>\n",
       "      <td>584017403</td>\n",
       "      <td>1</td>\n",
       "    </tr>\n",
       "  </tbody>\n",
       "</table>\n",
       "<p>19389146 rows × 3 columns</p>\n",
       "</div>"
      ],
      "text/plain": [
       "               actor       repo  count\n",
       "22          41347805          1      1\n",
       "27          46025304          1      2\n",
       "74         116427844          1      2\n",
       "111          1595356         27      2\n",
       "112          1595356         27      1\n",
       "...              ...        ...    ...\n",
       "241048242   99094815  584016253      2\n",
       "241048842   35613825  584017175      2\n",
       "241048843   40209326  584017175      1\n",
       "241048966    1580039  584017373      8\n",
       "241048990   36114314  584017403      1\n",
       "\n",
       "[19389146 rows x 3 columns]"
      ]
     },
     "execution_count": 10,
     "metadata": {},
     "output_type": "execute_result"
    }
   ],
   "source": [
    "df_comment"
   ]
  },
  {
   "cell_type": "code",
   "execution_count": 16,
   "id": "c6256fb5-11d9-4868-8e18-49c709d5cf36",
   "metadata": {
    "tags": []
   },
   "outputs": [],
   "source": [
    "pd.Series(bot_actors).to_csv(\"bot-actors.csv\")"
   ]
  },
  {
   "cell_type": "code",
   "execution_count": 18,
   "id": "fc90776a-ee60-432b-b0ad-b83bfbee4ebd",
   "metadata": {
    "tags": []
   },
   "outputs": [],
   "source": [
    "seed = [\n",
    "    # ipython/ipython\n",
    "    658518,\n",
    "    # matplotlib/matplotlib\n",
    "    1385122,\n",
    "    # networkx/networkx\n",
    "    890377,\n",
    "    # pandas-dev/pandas\n",
    "    858127,\n",
    "    # scikit-image/scikit-image\n",
    "    2014929,\n",
    "    # scikit-learn/scikit-learn\n",
    "    843222,\n",
    "    # pydata/xarray\n",
    "    13221727,\n",
    "    # scipy/scipy\n",
    "    1460385,\n",
    "]"
   ]
  },
  {
   "cell_type": "code",
   "execution_count": 19,
   "id": "e1098f89-8775-48d0-8571-70c0808137ef",
   "metadata": {
    "tags": []
   },
   "outputs": [
    {
     "data": {
      "text/html": [
       "<div>\n",
       "<style scoped>\n",
       "    .dataframe tbody tr th:only-of-type {\n",
       "        vertical-align: middle;\n",
       "    }\n",
       "\n",
       "    .dataframe tbody tr th {\n",
       "        vertical-align: top;\n",
       "    }\n",
       "\n",
       "    .dataframe thead th {\n",
       "        text-align: right;\n",
       "    }\n",
       "</style>\n",
       "<table border=\"1\" class=\"dataframe\">\n",
       "  <thead>\n",
       "    <tr style=\"text-align: right;\">\n",
       "      <th></th>\n",
       "      <th>actor</th>\n",
       "      <th>repo</th>\n",
       "      <th>type</th>\n",
       "      <th>count</th>\n",
       "    </tr>\n",
       "  </thead>\n",
       "  <tbody>\n",
       "    <tr>\n",
       "      <th>11062163</th>\n",
       "      <td>0</td>\n",
       "      <td>32611596</td>\n",
       "      <td>16</td>\n",
       "      <td>3</td>\n",
       "    </tr>\n",
       "    <tr>\n",
       "      <th>16277189</th>\n",
       "      <td>0</td>\n",
       "      <td>54378638</td>\n",
       "      <td>16</td>\n",
       "      <td>1</td>\n",
       "    </tr>\n",
       "    <tr>\n",
       "      <th>16737843</th>\n",
       "      <td>0</td>\n",
       "      <td>56915933</td>\n",
       "      <td>16</td>\n",
       "      <td>1</td>\n",
       "    </tr>\n",
       "    <tr>\n",
       "      <th>18599358</th>\n",
       "      <td>0</td>\n",
       "      <td>65711522</td>\n",
       "      <td>16</td>\n",
       "      <td>1</td>\n",
       "    </tr>\n",
       "    <tr>\n",
       "      <th>21445990</th>\n",
       "      <td>0</td>\n",
       "      <td>79607905</td>\n",
       "      <td>16</td>\n",
       "      <td>1</td>\n",
       "    </tr>\n",
       "    <tr>\n",
       "      <th>26520038</th>\n",
       "      <td>0</td>\n",
       "      <td>105711679</td>\n",
       "      <td>16</td>\n",
       "      <td>1</td>\n",
       "    </tr>\n",
       "    <tr>\n",
       "      <th>32682954</th>\n",
       "      <td>0</td>\n",
       "      <td>137451403</td>\n",
       "      <td>16</td>\n",
       "      <td>1</td>\n",
       "    </tr>\n",
       "    <tr>\n",
       "      <th>41114131</th>\n",
       "      <td>0</td>\n",
       "      <td>180085554</td>\n",
       "      <td>16</td>\n",
       "      <td>1</td>\n",
       "    </tr>\n",
       "    <tr>\n",
       "      <th>62819371</th>\n",
       "      <td>0</td>\n",
       "      <td>260273356</td>\n",
       "      <td>16</td>\n",
       "      <td>1</td>\n",
       "    </tr>\n",
       "    <tr>\n",
       "      <th>86317163</th>\n",
       "      <td>0</td>\n",
       "      <td>379570608</td>\n",
       "      <td>16</td>\n",
       "      <td>1</td>\n",
       "    </tr>\n",
       "    <tr>\n",
       "      <th>174570083</th>\n",
       "      <td>0</td>\n",
       "      <td>515782005</td>\n",
       "      <td>16</td>\n",
       "      <td>1</td>\n",
       "    </tr>\n",
       "    <tr>\n",
       "      <th>215656984</th>\n",
       "      <td>0</td>\n",
       "      <td>555827894</td>\n",
       "      <td>16</td>\n",
       "      <td>1</td>\n",
       "    </tr>\n",
       "  </tbody>\n",
       "</table>\n",
       "</div>"
      ],
      "text/plain": [
       "           actor       repo  type  count\n",
       "11062163       0   32611596    16      3\n",
       "16277189       0   54378638    16      1\n",
       "16737843       0   56915933    16      1\n",
       "18599358       0   65711522    16      1\n",
       "21445990       0   79607905    16      1\n",
       "26520038       0  105711679    16      1\n",
       "32682954       0  137451403    16      1\n",
       "41114131       0  180085554    16      1\n",
       "62819371       0  260273356    16      1\n",
       "86317163       0  379570608    16      1\n",
       "174570083      0  515782005    16      1\n",
       "215656984      0  555827894    16      1"
      ]
     },
     "execution_count": 19,
     "metadata": {},
     "output_type": "execute_result"
    }
   ],
   "source": [
    "df[df[\"actor\"] == 0]"
   ]
  },
  {
   "cell_type": "code",
   "execution_count": null,
   "id": "e5d0bc9b-b29d-44bb-a785-cdf7dac5ff05",
   "metadata": {},
   "outputs": [],
   "source": []
  }
 ],
 "metadata": {
  "kernelspec": {
   "display_name": "Python 3 (ipykernel)",
   "language": "python",
   "name": "python3"
  },
  "language_info": {
   "codemirror_mode": {
    "name": "ipython",
    "version": 3
   },
   "file_extension": ".py",
   "mimetype": "text/x-python",
   "name": "python",
   "nbconvert_exporter": "python",
   "pygments_lexer": "ipython3",
   "version": "3.10.8"
  }
 },
 "nbformat": 4,
 "nbformat_minor": 5
}
