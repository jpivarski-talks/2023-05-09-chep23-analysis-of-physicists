{
 "cells": [
  {
   "cell_type": "markdown",
   "id": "65669287-9de3-4724-97c1-ee6f92509e76",
   "metadata": {},
   "source": [
    "All the import statements in one cell."
   ]
  },
  {
   "cell_type": "code",
   "execution_count": 1,
   "id": "33e7dc17-6b77-4d6d-9cf8-ede6372f2b05",
   "metadata": {
    "tags": []
   },
   "outputs": [],
   "source": [
    "import json\n",
    "import pickle\n",
    "import gc\n",
    "import glob\n",
    "import re\n",
    "import tarfile\n",
    "from datetime import datetime, timezone\n",
    "from collections import Counter\n",
    "from subprocess import Popen, PIPE\n",
    "\n",
    "import matplotlib.pyplot as plt\n",
    "import matplotlib\n",
    "import numpy as np\n",
    "import pandas as pd\n",
    "import dask.bag as db\n",
    "import dask.distributed\n",
    "\n",
    "from hist import Hist"
   ]
  },
  {
   "cell_type": "code",
   "execution_count": 2,
   "id": "796b1b6f-9a85-41b0-88f4-28b4dbf497eb",
   "metadata": {
    "tags": []
   },
   "outputs": [
    {
     "data": {
      "text/html": [
       "<div>\n",
       "    <div style=\"width: 24px; height: 24px; background-color: #e1e1e1; border: 3px solid #9D9D9D; border-radius: 5px; position: absolute;\"> </div>\n",
       "    <div style=\"margin-left: 48px;\">\n",
       "        <h3 style=\"margin-bottom: 0px;\">Client</h3>\n",
       "        <p style=\"color: #9D9D9D; margin-bottom: 0px;\">Client-629c9010-dd57-11ed-857f-04421a0ba0b7</p>\n",
       "        <table style=\"width: 100%; text-align: left;\">\n",
       "\n",
       "        <tr>\n",
       "        \n",
       "            <td style=\"text-align: left;\"><strong>Connection method:</strong> Cluster object</td>\n",
       "            <td style=\"text-align: left;\"><strong>Cluster type:</strong> distributed.LocalCluster</td>\n",
       "        \n",
       "        </tr>\n",
       "\n",
       "        \n",
       "            <tr>\n",
       "                <td style=\"text-align: left;\">\n",
       "                    <strong>Dashboard: </strong> <a href=\"http://127.0.0.1:8787/status\" target=\"_blank\">http://127.0.0.1:8787/status</a>\n",
       "                </td>\n",
       "                <td style=\"text-align: left;\"></td>\n",
       "            </tr>\n",
       "        \n",
       "\n",
       "        </table>\n",
       "\n",
       "        \n",
       "\n",
       "        \n",
       "            <details>\n",
       "            <summary style=\"margin-bottom: 20px;\"><h3 style=\"display: inline;\">Cluster Info</h3></summary>\n",
       "            <div class=\"jp-RenderedHTMLCommon jp-RenderedHTML jp-mod-trusted jp-OutputArea-output\">\n",
       "    <div style=\"width: 24px; height: 24px; background-color: #e1e1e1; border: 3px solid #9D9D9D; border-radius: 5px; position: absolute;\">\n",
       "    </div>\n",
       "    <div style=\"margin-left: 48px;\">\n",
       "        <h3 style=\"margin-bottom: 0px; margin-top: 0px;\">LocalCluster</h3>\n",
       "        <p style=\"color: #9D9D9D; margin-bottom: 0px;\">1ca32c7a</p>\n",
       "        <table style=\"width: 100%; text-align: left;\">\n",
       "            <tr>\n",
       "                <td style=\"text-align: left;\">\n",
       "                    <strong>Dashboard:</strong> <a href=\"http://127.0.0.1:8787/status\" target=\"_blank\">http://127.0.0.1:8787/status</a>\n",
       "                </td>\n",
       "                <td style=\"text-align: left;\">\n",
       "                    <strong>Workers:</strong> 8\n",
       "                </td>\n",
       "            </tr>\n",
       "            <tr>\n",
       "                <td style=\"text-align: left;\">\n",
       "                    <strong>Total threads:</strong> 8\n",
       "                </td>\n",
       "                <td style=\"text-align: left;\">\n",
       "                    <strong>Total memory:</strong> 62.10 GiB\n",
       "                </td>\n",
       "            </tr>\n",
       "            \n",
       "            <tr>\n",
       "    <td style=\"text-align: left;\"><strong>Status:</strong> running</td>\n",
       "    <td style=\"text-align: left;\"><strong>Using processes:</strong> True</td>\n",
       "</tr>\n",
       "\n",
       "            \n",
       "        </table>\n",
       "\n",
       "        <details>\n",
       "            <summary style=\"margin-bottom: 20px;\">\n",
       "                <h3 style=\"display: inline;\">Scheduler Info</h3>\n",
       "            </summary>\n",
       "\n",
       "            <div style=\"\">\n",
       "    <div>\n",
       "        <div style=\"width: 24px; height: 24px; background-color: #FFF7E5; border: 3px solid #FF6132; border-radius: 5px; position: absolute;\"> </div>\n",
       "        <div style=\"margin-left: 48px;\">\n",
       "            <h3 style=\"margin-bottom: 0px;\">Scheduler</h3>\n",
       "            <p style=\"color: #9D9D9D; margin-bottom: 0px;\">Scheduler-ac2061df-f339-4f61-b838-d934a42a497f</p>\n",
       "            <table style=\"width: 100%; text-align: left;\">\n",
       "                <tr>\n",
       "                    <td style=\"text-align: left;\">\n",
       "                        <strong>Comm:</strong> tcp://127.0.0.1:34457\n",
       "                    </td>\n",
       "                    <td style=\"text-align: left;\">\n",
       "                        <strong>Workers:</strong> 8\n",
       "                    </td>\n",
       "                </tr>\n",
       "                <tr>\n",
       "                    <td style=\"text-align: left;\">\n",
       "                        <strong>Dashboard:</strong> <a href=\"http://127.0.0.1:8787/status\" target=\"_blank\">http://127.0.0.1:8787/status</a>\n",
       "                    </td>\n",
       "                    <td style=\"text-align: left;\">\n",
       "                        <strong>Total threads:</strong> 8\n",
       "                    </td>\n",
       "                </tr>\n",
       "                <tr>\n",
       "                    <td style=\"text-align: left;\">\n",
       "                        <strong>Started:</strong> Just now\n",
       "                    </td>\n",
       "                    <td style=\"text-align: left;\">\n",
       "                        <strong>Total memory:</strong> 62.10 GiB\n",
       "                    </td>\n",
       "                </tr>\n",
       "            </table>\n",
       "        </div>\n",
       "    </div>\n",
       "\n",
       "    <details style=\"margin-left: 48px;\">\n",
       "        <summary style=\"margin-bottom: 20px;\">\n",
       "            <h3 style=\"display: inline;\">Workers</h3>\n",
       "        </summary>\n",
       "\n",
       "        \n",
       "        <div style=\"margin-bottom: 20px;\">\n",
       "            <div style=\"width: 24px; height: 24px; background-color: #DBF5FF; border: 3px solid #4CC9FF; border-radius: 5px; position: absolute;\"> </div>\n",
       "            <div style=\"margin-left: 48px;\">\n",
       "            <details>\n",
       "                <summary>\n",
       "                    <h4 style=\"margin-bottom: 0px; display: inline;\">Worker: 0</h4>\n",
       "                </summary>\n",
       "                <table style=\"width: 100%; text-align: left;\">\n",
       "                    <tr>\n",
       "                        <td style=\"text-align: left;\">\n",
       "                            <strong>Comm: </strong> tcp://127.0.0.1:33489\n",
       "                        </td>\n",
       "                        <td style=\"text-align: left;\">\n",
       "                            <strong>Total threads: </strong> 1\n",
       "                        </td>\n",
       "                    </tr>\n",
       "                    <tr>\n",
       "                        <td style=\"text-align: left;\">\n",
       "                            <strong>Dashboard: </strong> <a href=\"http://127.0.0.1:45011/status\" target=\"_blank\">http://127.0.0.1:45011/status</a>\n",
       "                        </td>\n",
       "                        <td style=\"text-align: left;\">\n",
       "                            <strong>Memory: </strong> 7.76 GiB\n",
       "                        </td>\n",
       "                    </tr>\n",
       "                    <tr>\n",
       "                        <td style=\"text-align: left;\">\n",
       "                            <strong>Nanny: </strong> tcp://127.0.0.1:45465\n",
       "                        </td>\n",
       "                        <td style=\"text-align: left;\"></td>\n",
       "                    </tr>\n",
       "                    <tr>\n",
       "                        <td colspan=\"2\" style=\"text-align: left;\">\n",
       "                            <strong>Local directory: </strong> /tmp/dask-worker-space/worker-sfjvdjkb\n",
       "                        </td>\n",
       "                    </tr>\n",
       "\n",
       "                    \n",
       "\n",
       "                    \n",
       "\n",
       "                </table>\n",
       "            </details>\n",
       "            </div>\n",
       "        </div>\n",
       "        \n",
       "        <div style=\"margin-bottom: 20px;\">\n",
       "            <div style=\"width: 24px; height: 24px; background-color: #DBF5FF; border: 3px solid #4CC9FF; border-radius: 5px; position: absolute;\"> </div>\n",
       "            <div style=\"margin-left: 48px;\">\n",
       "            <details>\n",
       "                <summary>\n",
       "                    <h4 style=\"margin-bottom: 0px; display: inline;\">Worker: 1</h4>\n",
       "                </summary>\n",
       "                <table style=\"width: 100%; text-align: left;\">\n",
       "                    <tr>\n",
       "                        <td style=\"text-align: left;\">\n",
       "                            <strong>Comm: </strong> tcp://127.0.0.1:35063\n",
       "                        </td>\n",
       "                        <td style=\"text-align: left;\">\n",
       "                            <strong>Total threads: </strong> 1\n",
       "                        </td>\n",
       "                    </tr>\n",
       "                    <tr>\n",
       "                        <td style=\"text-align: left;\">\n",
       "                            <strong>Dashboard: </strong> <a href=\"http://127.0.0.1:46155/status\" target=\"_blank\">http://127.0.0.1:46155/status</a>\n",
       "                        </td>\n",
       "                        <td style=\"text-align: left;\">\n",
       "                            <strong>Memory: </strong> 7.76 GiB\n",
       "                        </td>\n",
       "                    </tr>\n",
       "                    <tr>\n",
       "                        <td style=\"text-align: left;\">\n",
       "                            <strong>Nanny: </strong> tcp://127.0.0.1:34707\n",
       "                        </td>\n",
       "                        <td style=\"text-align: left;\"></td>\n",
       "                    </tr>\n",
       "                    <tr>\n",
       "                        <td colspan=\"2\" style=\"text-align: left;\">\n",
       "                            <strong>Local directory: </strong> /tmp/dask-worker-space/worker-m7trmlyy\n",
       "                        </td>\n",
       "                    </tr>\n",
       "\n",
       "                    \n",
       "\n",
       "                    \n",
       "\n",
       "                </table>\n",
       "            </details>\n",
       "            </div>\n",
       "        </div>\n",
       "        \n",
       "        <div style=\"margin-bottom: 20px;\">\n",
       "            <div style=\"width: 24px; height: 24px; background-color: #DBF5FF; border: 3px solid #4CC9FF; border-radius: 5px; position: absolute;\"> </div>\n",
       "            <div style=\"margin-left: 48px;\">\n",
       "            <details>\n",
       "                <summary>\n",
       "                    <h4 style=\"margin-bottom: 0px; display: inline;\">Worker: 2</h4>\n",
       "                </summary>\n",
       "                <table style=\"width: 100%; text-align: left;\">\n",
       "                    <tr>\n",
       "                        <td style=\"text-align: left;\">\n",
       "                            <strong>Comm: </strong> tcp://127.0.0.1:34783\n",
       "                        </td>\n",
       "                        <td style=\"text-align: left;\">\n",
       "                            <strong>Total threads: </strong> 1\n",
       "                        </td>\n",
       "                    </tr>\n",
       "                    <tr>\n",
       "                        <td style=\"text-align: left;\">\n",
       "                            <strong>Dashboard: </strong> <a href=\"http://127.0.0.1:38439/status\" target=\"_blank\">http://127.0.0.1:38439/status</a>\n",
       "                        </td>\n",
       "                        <td style=\"text-align: left;\">\n",
       "                            <strong>Memory: </strong> 7.76 GiB\n",
       "                        </td>\n",
       "                    </tr>\n",
       "                    <tr>\n",
       "                        <td style=\"text-align: left;\">\n",
       "                            <strong>Nanny: </strong> tcp://127.0.0.1:46007\n",
       "                        </td>\n",
       "                        <td style=\"text-align: left;\"></td>\n",
       "                    </tr>\n",
       "                    <tr>\n",
       "                        <td colspan=\"2\" style=\"text-align: left;\">\n",
       "                            <strong>Local directory: </strong> /tmp/dask-worker-space/worker-loblq5km\n",
       "                        </td>\n",
       "                    </tr>\n",
       "\n",
       "                    \n",
       "\n",
       "                    \n",
       "\n",
       "                </table>\n",
       "            </details>\n",
       "            </div>\n",
       "        </div>\n",
       "        \n",
       "        <div style=\"margin-bottom: 20px;\">\n",
       "            <div style=\"width: 24px; height: 24px; background-color: #DBF5FF; border: 3px solid #4CC9FF; border-radius: 5px; position: absolute;\"> </div>\n",
       "            <div style=\"margin-left: 48px;\">\n",
       "            <details>\n",
       "                <summary>\n",
       "                    <h4 style=\"margin-bottom: 0px; display: inline;\">Worker: 3</h4>\n",
       "                </summary>\n",
       "                <table style=\"width: 100%; text-align: left;\">\n",
       "                    <tr>\n",
       "                        <td style=\"text-align: left;\">\n",
       "                            <strong>Comm: </strong> tcp://127.0.0.1:34219\n",
       "                        </td>\n",
       "                        <td style=\"text-align: left;\">\n",
       "                            <strong>Total threads: </strong> 1\n",
       "                        </td>\n",
       "                    </tr>\n",
       "                    <tr>\n",
       "                        <td style=\"text-align: left;\">\n",
       "                            <strong>Dashboard: </strong> <a href=\"http://127.0.0.1:36021/status\" target=\"_blank\">http://127.0.0.1:36021/status</a>\n",
       "                        </td>\n",
       "                        <td style=\"text-align: left;\">\n",
       "                            <strong>Memory: </strong> 7.76 GiB\n",
       "                        </td>\n",
       "                    </tr>\n",
       "                    <tr>\n",
       "                        <td style=\"text-align: left;\">\n",
       "                            <strong>Nanny: </strong> tcp://127.0.0.1:44459\n",
       "                        </td>\n",
       "                        <td style=\"text-align: left;\"></td>\n",
       "                    </tr>\n",
       "                    <tr>\n",
       "                        <td colspan=\"2\" style=\"text-align: left;\">\n",
       "                            <strong>Local directory: </strong> /tmp/dask-worker-space/worker-h7qvdcju\n",
       "                        </td>\n",
       "                    </tr>\n",
       "\n",
       "                    \n",
       "\n",
       "                    \n",
       "\n",
       "                </table>\n",
       "            </details>\n",
       "            </div>\n",
       "        </div>\n",
       "        \n",
       "        <div style=\"margin-bottom: 20px;\">\n",
       "            <div style=\"width: 24px; height: 24px; background-color: #DBF5FF; border: 3px solid #4CC9FF; border-radius: 5px; position: absolute;\"> </div>\n",
       "            <div style=\"margin-left: 48px;\">\n",
       "            <details>\n",
       "                <summary>\n",
       "                    <h4 style=\"margin-bottom: 0px; display: inline;\">Worker: 4</h4>\n",
       "                </summary>\n",
       "                <table style=\"width: 100%; text-align: left;\">\n",
       "                    <tr>\n",
       "                        <td style=\"text-align: left;\">\n",
       "                            <strong>Comm: </strong> tcp://127.0.0.1:44075\n",
       "                        </td>\n",
       "                        <td style=\"text-align: left;\">\n",
       "                            <strong>Total threads: </strong> 1\n",
       "                        </td>\n",
       "                    </tr>\n",
       "                    <tr>\n",
       "                        <td style=\"text-align: left;\">\n",
       "                            <strong>Dashboard: </strong> <a href=\"http://127.0.0.1:41665/status\" target=\"_blank\">http://127.0.0.1:41665/status</a>\n",
       "                        </td>\n",
       "                        <td style=\"text-align: left;\">\n",
       "                            <strong>Memory: </strong> 7.76 GiB\n",
       "                        </td>\n",
       "                    </tr>\n",
       "                    <tr>\n",
       "                        <td style=\"text-align: left;\">\n",
       "                            <strong>Nanny: </strong> tcp://127.0.0.1:32883\n",
       "                        </td>\n",
       "                        <td style=\"text-align: left;\"></td>\n",
       "                    </tr>\n",
       "                    <tr>\n",
       "                        <td colspan=\"2\" style=\"text-align: left;\">\n",
       "                            <strong>Local directory: </strong> /tmp/dask-worker-space/worker-6ohlaqz5\n",
       "                        </td>\n",
       "                    </tr>\n",
       "\n",
       "                    \n",
       "\n",
       "                    \n",
       "\n",
       "                </table>\n",
       "            </details>\n",
       "            </div>\n",
       "        </div>\n",
       "        \n",
       "        <div style=\"margin-bottom: 20px;\">\n",
       "            <div style=\"width: 24px; height: 24px; background-color: #DBF5FF; border: 3px solid #4CC9FF; border-radius: 5px; position: absolute;\"> </div>\n",
       "            <div style=\"margin-left: 48px;\">\n",
       "            <details>\n",
       "                <summary>\n",
       "                    <h4 style=\"margin-bottom: 0px; display: inline;\">Worker: 5</h4>\n",
       "                </summary>\n",
       "                <table style=\"width: 100%; text-align: left;\">\n",
       "                    <tr>\n",
       "                        <td style=\"text-align: left;\">\n",
       "                            <strong>Comm: </strong> tcp://127.0.0.1:33433\n",
       "                        </td>\n",
       "                        <td style=\"text-align: left;\">\n",
       "                            <strong>Total threads: </strong> 1\n",
       "                        </td>\n",
       "                    </tr>\n",
       "                    <tr>\n",
       "                        <td style=\"text-align: left;\">\n",
       "                            <strong>Dashboard: </strong> <a href=\"http://127.0.0.1:36591/status\" target=\"_blank\">http://127.0.0.1:36591/status</a>\n",
       "                        </td>\n",
       "                        <td style=\"text-align: left;\">\n",
       "                            <strong>Memory: </strong> 7.76 GiB\n",
       "                        </td>\n",
       "                    </tr>\n",
       "                    <tr>\n",
       "                        <td style=\"text-align: left;\">\n",
       "                            <strong>Nanny: </strong> tcp://127.0.0.1:42409\n",
       "                        </td>\n",
       "                        <td style=\"text-align: left;\"></td>\n",
       "                    </tr>\n",
       "                    <tr>\n",
       "                        <td colspan=\"2\" style=\"text-align: left;\">\n",
       "                            <strong>Local directory: </strong> /tmp/dask-worker-space/worker-j02gudza\n",
       "                        </td>\n",
       "                    </tr>\n",
       "\n",
       "                    \n",
       "\n",
       "                    \n",
       "\n",
       "                </table>\n",
       "            </details>\n",
       "            </div>\n",
       "        </div>\n",
       "        \n",
       "        <div style=\"margin-bottom: 20px;\">\n",
       "            <div style=\"width: 24px; height: 24px; background-color: #DBF5FF; border: 3px solid #4CC9FF; border-radius: 5px; position: absolute;\"> </div>\n",
       "            <div style=\"margin-left: 48px;\">\n",
       "            <details>\n",
       "                <summary>\n",
       "                    <h4 style=\"margin-bottom: 0px; display: inline;\">Worker: 6</h4>\n",
       "                </summary>\n",
       "                <table style=\"width: 100%; text-align: left;\">\n",
       "                    <tr>\n",
       "                        <td style=\"text-align: left;\">\n",
       "                            <strong>Comm: </strong> tcp://127.0.0.1:44909\n",
       "                        </td>\n",
       "                        <td style=\"text-align: left;\">\n",
       "                            <strong>Total threads: </strong> 1\n",
       "                        </td>\n",
       "                    </tr>\n",
       "                    <tr>\n",
       "                        <td style=\"text-align: left;\">\n",
       "                            <strong>Dashboard: </strong> <a href=\"http://127.0.0.1:45575/status\" target=\"_blank\">http://127.0.0.1:45575/status</a>\n",
       "                        </td>\n",
       "                        <td style=\"text-align: left;\">\n",
       "                            <strong>Memory: </strong> 7.76 GiB\n",
       "                        </td>\n",
       "                    </tr>\n",
       "                    <tr>\n",
       "                        <td style=\"text-align: left;\">\n",
       "                            <strong>Nanny: </strong> tcp://127.0.0.1:42187\n",
       "                        </td>\n",
       "                        <td style=\"text-align: left;\"></td>\n",
       "                    </tr>\n",
       "                    <tr>\n",
       "                        <td colspan=\"2\" style=\"text-align: left;\">\n",
       "                            <strong>Local directory: </strong> /tmp/dask-worker-space/worker-9htgmk00\n",
       "                        </td>\n",
       "                    </tr>\n",
       "\n",
       "                    \n",
       "\n",
       "                    \n",
       "\n",
       "                </table>\n",
       "            </details>\n",
       "            </div>\n",
       "        </div>\n",
       "        \n",
       "        <div style=\"margin-bottom: 20px;\">\n",
       "            <div style=\"width: 24px; height: 24px; background-color: #DBF5FF; border: 3px solid #4CC9FF; border-radius: 5px; position: absolute;\"> </div>\n",
       "            <div style=\"margin-left: 48px;\">\n",
       "            <details>\n",
       "                <summary>\n",
       "                    <h4 style=\"margin-bottom: 0px; display: inline;\">Worker: 7</h4>\n",
       "                </summary>\n",
       "                <table style=\"width: 100%; text-align: left;\">\n",
       "                    <tr>\n",
       "                        <td style=\"text-align: left;\">\n",
       "                            <strong>Comm: </strong> tcp://127.0.0.1:42755\n",
       "                        </td>\n",
       "                        <td style=\"text-align: left;\">\n",
       "                            <strong>Total threads: </strong> 1\n",
       "                        </td>\n",
       "                    </tr>\n",
       "                    <tr>\n",
       "                        <td style=\"text-align: left;\">\n",
       "                            <strong>Dashboard: </strong> <a href=\"http://127.0.0.1:39809/status\" target=\"_blank\">http://127.0.0.1:39809/status</a>\n",
       "                        </td>\n",
       "                        <td style=\"text-align: left;\">\n",
       "                            <strong>Memory: </strong> 7.76 GiB\n",
       "                        </td>\n",
       "                    </tr>\n",
       "                    <tr>\n",
       "                        <td style=\"text-align: left;\">\n",
       "                            <strong>Nanny: </strong> tcp://127.0.0.1:33933\n",
       "                        </td>\n",
       "                        <td style=\"text-align: left;\"></td>\n",
       "                    </tr>\n",
       "                    <tr>\n",
       "                        <td colspan=\"2\" style=\"text-align: left;\">\n",
       "                            <strong>Local directory: </strong> /tmp/dask-worker-space/worker-nll5oqrz\n",
       "                        </td>\n",
       "                    </tr>\n",
       "\n",
       "                    \n",
       "\n",
       "                    \n",
       "\n",
       "                </table>\n",
       "            </details>\n",
       "            </div>\n",
       "        </div>\n",
       "        \n",
       "\n",
       "    </details>\n",
       "</div>\n",
       "\n",
       "        </details>\n",
       "    </div>\n",
       "</div>\n",
       "            </details>\n",
       "        \n",
       "\n",
       "    </div>\n",
       "</div>"
      ],
      "text/plain": [
       "<Client: 'tcp://127.0.0.1:34457' processes=8 threads=8, memory=62.10 GiB>"
      ]
     },
     "execution_count": 2,
     "metadata": {},
     "output_type": "execute_result"
    }
   ],
   "source": [
    "client = dask.distributed.Client(n_workers=8, threads_per_worker=1)\n",
    "client"
   ]
  },
  {
   "cell_type": "markdown",
   "id": "69d830cf-90a0-4baa-9939-e9bbc31c8f55",
   "metadata": {},
   "source": [
    "Only need to do this if `/tmp/*` is out of date, not every time the notebook gets relaunched."
   ]
  },
  {
   "cell_type": "code",
   "execution_count": null,
   "id": "064b45cd-bc5b-44bb-adab-a9f6908b6903",
   "metadata": {
    "tags": []
   },
   "outputs": [],
   "source": [
    "cmssw_file_ages = list(json.load(open(\"/home/jpivarski/storage/data/physicists/forks-of-cmssw-2023-02-13/file-ages.json\")).items())"
   ]
  },
  {
   "cell_type": "code",
   "execution_count": null,
   "id": "fc72441f-94b7-4374-9463-8f5e980faa92",
   "metadata": {
    "tags": []
   },
   "outputs": [],
   "source": [
    "len(cmssw_file_ages)"
   ]
  },
  {
   "cell_type": "code",
   "execution_count": null,
   "id": "f3dc7314-237c-4dbf-9d15-d0ccd95062e2",
   "metadata": {
    "tags": []
   },
   "outputs": [],
   "source": [
    "start = stop = 0\n",
    "for i in range(100):\n",
    "    stop = min(stop + int(np.ceil(len(cmssw_file_ages) / 100)), len(cmssw_file_ages))\n",
    "    pickle.dump(dict(cmssw_file_ages[start:stop]), open(f\"/tmp/cmssw-file-ages-{i}.pkl\", \"wb\"))\n",
    "    start = stop"
   ]
  },
  {
   "cell_type": "code",
   "execution_count": null,
   "id": "223f4e52-7549-4678-8ff0-4a8b854b2379",
   "metadata": {
    "tags": []
   },
   "outputs": [],
   "source": [
    "root_file_ages = list(json.load(open(\"/home/jpivarski/storage/data/physicists/github-archive/file-ages.json\")).items())"
   ]
  },
  {
   "cell_type": "code",
   "execution_count": null,
   "id": "5be36d20-22dd-4efd-88fd-8977f56c75f9",
   "metadata": {
    "tags": []
   },
   "outputs": [],
   "source": [
    "len(root_file_ages)"
   ]
  },
  {
   "cell_type": "code",
   "execution_count": null,
   "id": "fcd9537d-246d-4b15-9cd3-d221f5df57a0",
   "metadata": {
    "tags": []
   },
   "outputs": [],
   "source": [
    "start = stop = 0\n",
    "for i in range(100):\n",
    "    stop = min(stop + int(np.ceil(len(root_file_ages) / 100)), len(root_file_ages))\n",
    "    pickle.dump(dict(root_file_ages[start:stop]), open(f\"/tmp/root-file-ages-{i}.pkl\", \"wb\"))\n",
    "    start = stop"
   ]
  },
  {
   "cell_type": "markdown",
   "id": "1189059c-a0e0-455a-a2da-484a8091c75b",
   "metadata": {},
   "source": [
    "Start here if relaunching the notebook."
   ]
  },
  {
   "cell_type": "code",
   "execution_count": 3,
   "id": "42f0f3b2-6a16-42f4-8e2b-92fbaa2fe954",
   "metadata": {
    "tags": []
   },
   "outputs": [],
   "source": [
    "cmssw_file_ages_names = db.from_sequence([f\"/tmp/cmssw-file-ages-{i}.pkl\" for i in range(100)])\n",
    "root_file_ages_names = db.from_sequence([f\"/tmp/root-file-ages-{i}.pkl\" for i in range(100)])"
   ]
  },
  {
   "cell_type": "code",
   "execution_count": 4,
   "id": "34d33052-fefe-4d67-9ee2-435d3e360678",
   "metadata": {
    "tags": []
   },
   "outputs": [],
   "source": [
    "cmssw_repo_fraction_commits = {}\n",
    "for filename in glob.glob(\"/home/jpivarski/storage/data/physicists/forks-of-cmssw-2023-02-13/user-repos-contributors/*.json\"):\n",
    "    reponame = filename[90:-5].replace(\"__\", \"/\")\n",
    "    if reponame == \"Abdoelabassi/Quantum/qiskit/Starter\":\n",
    "        reponame = \"Abdoelabassi/Quantum__qiskit__Starter\"\n",
    "    assert reponame.count(\"/\") == 1, reponame\n",
    "    owner = reponame[:reponame.index(\"/\")]\n",
    "    filedata = open(filename).read()\n",
    "    if len(filedata.strip()) == 0:\n",
    "        cmssw_repo_fraction_commits[reponame] = 0.0\n",
    "    else:\n",
    "        contributors = json.loads(filedata)\n",
    "        if isinstance(contributors, dict) and contributors[\"message\"] in (\"Moved Permanently\", \"Not Found\", \"Repository access blocked\"):\n",
    "            cmssw_repo_fraction_commits[reponame] = 0.0\n",
    "        else:\n",
    "            total_commits = sum(x[\"contributions\"] for x in contributors)\n",
    "            if total_commits == 0:\n",
    "                cmssw_repo_fraction_commits[reponame] = 1.0\n",
    "            else:\n",
    "                cmssw_repo_fraction_commits[reponame] = sum(x[\"contributions\"] for x in contributors if x[\"login\"] == owner) / total_commits"
   ]
  },
  {
   "cell_type": "code",
   "execution_count": 5,
   "id": "22a7e7f3-ef9a-4fdf-83d7-92b3d1240b2b",
   "metadata": {
    "tags": []
   },
   "outputs": [],
   "source": [
    "root_repo_fraction_commits = {}\n",
    "for filename in glob.glob(\"/home/jpivarski/storage/data/physicists/github-archive/root-repo-user-repos-contributors/*.json\"):\n",
    "    reponame = filename[89:-5].replace(\"__\", \"/\")\n",
    "    assert reponame.count(\"/\") == 1, reponame\n",
    "    owner = reponame[:reponame.index(\"/\")]\n",
    "    contributors = json.load(open(filename))\n",
    "    if isinstance(contributors, dict) and contributors[\"message\"] in (\"The history or contributor list is too large to list contributors for this repository via the API.\", \"Not Found\", \"Repository access blocked\"):\n",
    "        root_repo_fraction_commits[reponame] = 0.0\n",
    "    else:\n",
    "        total_commits = sum(x[\"contributions\"] for x in contributors)\n",
    "        if total_commits == 0:\n",
    "            root_repo_fraction_commits[reponame] = 1.0\n",
    "        else:\n",
    "            root_repo_fraction_commits[reponame] = sum(x[\"contributions\"] for x in contributors if x[\"login\"] == owner) / total_commits"
   ]
  },
  {
   "cell_type": "code",
   "execution_count": 6,
   "id": "0a8d69b7-702a-4cbd-86d6-6b6fb88bf6ca",
   "metadata": {
    "tags": []
   },
   "outputs": [],
   "source": [
    "cmssw_repo_exclude = {name for name, fraction in cmssw_repo_fraction_commits.items() if fraction < 0.01}\n",
    "root_repo_exclude = {name for name, fraction in root_repo_fraction_commits.items() if fraction < 0.01}"
   ]
  },
  {
   "cell_type": "code",
   "execution_count": 7,
   "id": "04383947-c96b-42a1-8d53-f52b3a2d46dc",
   "metadata": {
    "tags": []
   },
   "outputs": [
    {
     "data": {
      "text/plain": [
       "(577, 186)"
      ]
     },
     "execution_count": 7,
     "metadata": {},
     "output_type": "execute_result"
    }
   ],
   "source": [
    "len(cmssw_repo_exclude), len(root_repo_exclude)"
   ]
  },
  {
   "cell_type": "code",
   "execution_count": 8,
   "id": "8f52f1d0-3a4e-4365-a834-e673f1d7f317",
   "metadata": {
    "tags": []
   },
   "outputs": [],
   "source": [
    "# These take a long time to compute and they aren't physics related.\n",
    "cmssw_repo_exclude.add(\"hrishikeshgoyal/NetBSD-kernel-source\")\n",
    "\n",
    "root_repo_exclude.add(\"GuacheSuede/MSCVProject\")\n",
    "root_repo_exclude.add(\"GuacheSuede/MSSubmission1234567890\")"
   ]
  },
  {
   "cell_type": "code",
   "execution_count": 9,
   "id": "26d71c26-8960-4036-8a7b-5adfe7f05e5e",
   "metadata": {
    "tags": []
   },
   "outputs": [],
   "source": [
    "cmssw_repo_dir = \"/home/jpivarski/storage/data/GitHub-CMSSW-user-nonfork-raw-data-1Mcut\"\n",
    "root_repo_dir = \"/home/jpivarski/storage/data/GitHub-ROOT-user-nonfork-raw-data-1Mcut\""
   ]
  },
  {
   "cell_type": "code",
   "execution_count": 10,
   "id": "61cf18a9-7c93-4e30-a865-bae9f414c509",
   "metadata": {
    "tags": []
   },
   "outputs": [],
   "source": [
    "def cpp_file_extension(filename):\n",
    "    x = filename.lower()\n",
    "    return x.endswith(\".c\") or x.endswith(\".cc\") or x.endswith(\".cpp\") or x.endswith(\".cp\") or x.endswith(\".cxx\") or x.endswith(\".c++\") or x.endswith(\".h\") or x.endswith(\".hpp\") or x.endswith(\".hp\") or x.endswith(\".hh\")"
   ]
  },
  {
   "cell_type": "code",
   "execution_count": 11,
   "id": "8a11cf14-b85e-48d8-8d80-5bffa4755d74",
   "metadata": {
    "tags": []
   },
   "outputs": [],
   "source": [
    "cmssw_bios = json.load(open(\"/home/jpivarski/storage/data/physicists/forks-of-cmssw-2023-02-13/cmssw-bios.json\"))\n",
    "root_bios = json.load(open(\"/home/jpivarski/storage/data/physicists/github-archive/root-repo-bios.json\"))"
   ]
  },
  {
   "cell_type": "code",
   "execution_count": 12,
   "id": "be1b1180-3a70-44a8-9dee-6a9dcb038881",
   "metadata": {
    "tags": []
   },
   "outputs": [
    {
     "data": {
      "text/plain": [
       "(7.690217391304348, 7.613314447592068)"
      ]
     },
     "execution_count": 12,
     "metadata": {},
     "output_type": "execute_result"
    }
   ],
   "source": [
    "def select(x):\n",
    "    if x is None or x.strip() == \"\":\n",
    "        return False\n",
    "    else:\n",
    "        return re.search(\"(phys|analy|hep|particle|cern|cms|atlas|alice|lhc)\", x, re.I) is not None\n",
    "\n",
    "(\n",
    "    100 * len([x for x in cmssw_bios if select(x[\"bio\"])]) / len(cmssw_bios),\n",
    "    100 * len([x for x in root_bios if select(x[\"bio\"])]) / len(root_bios),\n",
    ")"
   ]
  },
  {
   "cell_type": "code",
   "execution_count": 13,
   "id": "617b8570-a1f6-47c1-b7ba-521faa2d2255",
   "metadata": {
    "tags": []
   },
   "outputs": [
    {
     "data": {
      "text/plain": [
       "(283, 215)"
      ]
     },
     "execution_count": 13,
     "metadata": {},
     "output_type": "execute_result"
    }
   ],
   "source": [
    "cmssw_physicists = set(x[\"name\"] for x in cmssw_bios if select(x[\"bio\"]))\n",
    "root_physicists = set(x[\"name\"] for x in root_bios if select(x[\"bio\"]))\n",
    "\n",
    "len(cmssw_physicists), len(root_physicists)"
   ]
  },
  {
   "cell_type": "markdown",
   "id": "dcb1469a-71a7-4bc0-8ff8-a10fcc7e850c",
   "metadata": {},
   "source": [
    "## Question 5"
   ]
  },
  {
   "cell_type": "markdown",
   "id": "93393d80-136c-4b7e-8ba5-429f6513a000",
   "metadata": {},
   "source": [
    "How many Python files can be parsed as Python 2 versus Python 3?"
   ]
  },
  {
   "cell_type": "code",
   "execution_count": 14,
   "id": "6a1faa7e-6f72-4d48-aa1e-54d7e9819d9c",
   "metadata": {
    "tags": []
   },
   "outputs": [],
   "source": [
    "def parsable_python(text, version):\n",
    "    return Popen(\n",
    "        [f\"/home/jpivarski/mambaforge/envs/{version}/bin/python\", \"-iuc\", \"import ast, sys; sys.ps1, sys.ps2 = '', ''\"],\n",
    "        stdin=PIPE, stdout=PIPE, stderr=PIPE,\n",
    "    ).communicate(\n",
    "        f\"try:\\n    tmp = ast.parse({text!r})\\nexcept SyntaxError:\\n    print('BAD')\\nelse:\\n    print('GOOD')\\n\".encode()\n",
    "    )[0] == b\"GOOD\\n\""
   ]
  },
  {
   "cell_type": "code",
   "execution_count": 15,
   "id": "f2833afc-68d1-4394-aad3-a6b9a8e47d65",
   "metadata": {
    "tags": []
   },
   "outputs": [
    {
     "data": {
      "text/plain": [
       "True"
      ]
     },
     "execution_count": 15,
     "metadata": {},
     "output_type": "execute_result"
    }
   ],
   "source": [
    "parsable_python(\"print 'hi'\", \"py27\")"
   ]
  },
  {
   "cell_type": "code",
   "execution_count": 16,
   "id": "65f5eac5-7074-49fe-8394-5e5fb0481b39",
   "metadata": {
    "tags": []
   },
   "outputs": [
    {
     "data": {
      "text/plain": [
       "False"
      ]
     },
     "execution_count": 16,
     "metadata": {},
     "output_type": "execute_result"
    }
   ],
   "source": [
    "parsable_python(\"print 'hi'\", \"py311\")"
   ]
  },
  {
   "cell_type": "code",
   "execution_count": 17,
   "id": "f48c5dca-6e05-441e-b048-ddf2c6d776cf",
   "metadata": {
    "tags": []
   },
   "outputs": [],
   "source": [
    "def calculate_python2_python3(filename):\n",
    "    # gc.disable()\n",
    "    batch = pickle.load(open(filename, \"rb\"))\n",
    "    if filename.startswith(\"/tmp/cmssw-file-ages\"):\n",
    "        repo_exclude = cmssw_repo_exclude\n",
    "        physicists = cmssw_physicists\n",
    "        repo_dir = cmssw_repo_dir\n",
    "    else:\n",
    "        repo_exclude = root_repo_exclude\n",
    "        physicists = root_physicists\n",
    "        repo_dir = root_repo_dir\n",
    "    \n",
    "    out = []\n",
    "    for reponame, repo in batch.items():\n",
    "        username = reponame.split(\"/\")[0]\n",
    "        \n",
    "        if reponame not in repo_exclude and username in physicists:\n",
    "            with tarfile.open(f\"{repo_dir}/{reponame}.tgz\") as repo_tgz:\n",
    "                for info in repo_tgz:\n",
    "                    if info.isfile():\n",
    "                        filetype = \"other\"\n",
    "                        text = None\n",
    "                        py2parsable, py3parsable = False, False\n",
    "\n",
    "                        if info.name.lower().endswith(\".ipynb\"):\n",
    "                            filedata = repo_tgz.extractfile(info).read()\n",
    "                            try:\n",
    "                                jsondata = json.loads(filedata)\n",
    "                            except (json.JSONDecodeError, UnicodeDecodeError):\n",
    "                                filetype = \"broken-Jupyter\"\n",
    "                            else:\n",
    "                                filetype = \"Jupyter\"\n",
    "                                text = \"\\n\\n\\n\".join([\"\".join(cell[\"source\"]) for cell in jsondata.get(\"cells\", []) if cell[\"cell_type\"] == \"code\"])\n",
    "                                text = text.encode(\"utf-8\")\n",
    "\n",
    "                        elif info.name.lower().endswith(\".py\"):\n",
    "                            filetype = \"Python\"\n",
    "                            text = repo_tgz.extractfile(info).read()\n",
    "                        \n",
    "                        if text is not None:\n",
    "                            py2parsable = parsable_python(text, \"py27\")\n",
    "                            py3parsable = parsable_python(text, \"py311\")\n",
    "                        \n",
    "                        try:\n",
    "                            file_date = datetime.strptime(repo[\"/\".join(info.name.split(\"/\")[2:])][0], \"%Y-%m-%d %H:%M:%S %z\")\n",
    "                        except (ValueError, KeyError):\n",
    "                            file_date = datetime(1970, 1, 1, tzinfo=timezone.utc)\n",
    "                        \n",
    "                        out.append({\"type\": filetype, \"py2\": py2parsable, \"py3\": py3parsable, \"date\": file_date})\n",
    "        \n",
    "    return out"
   ]
  },
  {
   "cell_type": "code",
   "execution_count": 18,
   "id": "fe2dc0e2-199a-4e8e-beb7-06b49addcd87",
   "metadata": {
    "tags": []
   },
   "outputs": [],
   "source": [
    "batches1 = cmssw_file_ages_names.map(calculate_python2_python3).compute()"
   ]
  },
  {
   "cell_type": "code",
   "execution_count": 19,
   "id": "bf8ab703-55d7-4d81-93f2-202b1e213cf5",
   "metadata": {
    "tags": []
   },
   "outputs": [],
   "source": [
    "batches2 = root_file_ages_names.map(calculate_python2_python3).compute()"
   ]
  },
  {
   "cell_type": "code",
   "execution_count": 20,
   "id": "610655a6-c30b-4b61-97c0-eeda6d3097e6",
   "metadata": {
    "tags": []
   },
   "outputs": [
    {
     "data": {
      "text/html": [
       "<div>\n",
       "<style scoped>\n",
       "    .dataframe tbody tr th:only-of-type {\n",
       "        vertical-align: middle;\n",
       "    }\n",
       "\n",
       "    .dataframe tbody tr th {\n",
       "        vertical-align: top;\n",
       "    }\n",
       "\n",
       "    .dataframe thead th {\n",
       "        text-align: right;\n",
       "    }\n",
       "</style>\n",
       "<table border=\"1\" class=\"dataframe\">\n",
       "  <thead>\n",
       "    <tr style=\"text-align: right;\">\n",
       "      <th></th>\n",
       "      <th>type</th>\n",
       "      <th>py2</th>\n",
       "      <th>py3</th>\n",
       "    </tr>\n",
       "  </thead>\n",
       "  <tbody>\n",
       "    <tr>\n",
       "      <th>2021-05-06 18:31:11+00:00</th>\n",
       "      <td>other</td>\n",
       "      <td>False</td>\n",
       "      <td>False</td>\n",
       "    </tr>\n",
       "    <tr>\n",
       "      <th>2020-12-03 17:14:49+00:00</th>\n",
       "      <td>other</td>\n",
       "      <td>False</td>\n",
       "      <td>False</td>\n",
       "    </tr>\n",
       "    <tr>\n",
       "      <th>2020-06-23 16:40:04+00:00</th>\n",
       "      <td>other</td>\n",
       "      <td>False</td>\n",
       "      <td>False</td>\n",
       "    </tr>\n",
       "    <tr>\n",
       "      <th>2020-06-23 16:43:14+00:00</th>\n",
       "      <td>other</td>\n",
       "      <td>False</td>\n",
       "      <td>False</td>\n",
       "    </tr>\n",
       "    <tr>\n",
       "      <th>2020-06-22 17:04:10+00:00</th>\n",
       "      <td>other</td>\n",
       "      <td>False</td>\n",
       "      <td>False</td>\n",
       "    </tr>\n",
       "    <tr>\n",
       "      <th>...</th>\n",
       "      <td>...</td>\n",
       "      <td>...</td>\n",
       "      <td>...</td>\n",
       "    </tr>\n",
       "    <tr>\n",
       "      <th>2016-11-10 20:49:44+00:00</th>\n",
       "      <td>other</td>\n",
       "      <td>False</td>\n",
       "      <td>False</td>\n",
       "    </tr>\n",
       "    <tr>\n",
       "      <th>2016-11-10 20:49:44+00:00</th>\n",
       "      <td>other</td>\n",
       "      <td>False</td>\n",
       "      <td>False</td>\n",
       "    </tr>\n",
       "    <tr>\n",
       "      <th>2016-11-10 20:49:44+00:00</th>\n",
       "      <td>other</td>\n",
       "      <td>False</td>\n",
       "      <td>False</td>\n",
       "    </tr>\n",
       "    <tr>\n",
       "      <th>2016-11-22 01:33:38+00:00</th>\n",
       "      <td>other</td>\n",
       "      <td>False</td>\n",
       "      <td>False</td>\n",
       "    </tr>\n",
       "    <tr>\n",
       "      <th>2016-11-10 20:49:44+00:00</th>\n",
       "      <td>other</td>\n",
       "      <td>False</td>\n",
       "      <td>False</td>\n",
       "    </tr>\n",
       "  </tbody>\n",
       "</table>\n",
       "<p>1141377 rows × 3 columns</p>\n",
       "</div>"
      ],
      "text/plain": [
       "                            type    py2    py3\n",
       "2021-05-06 18:31:11+00:00  other  False  False\n",
       "2020-12-03 17:14:49+00:00  other  False  False\n",
       "2020-06-23 16:40:04+00:00  other  False  False\n",
       "2020-06-23 16:43:14+00:00  other  False  False\n",
       "2020-06-22 17:04:10+00:00  other  False  False\n",
       "...                          ...    ...    ...\n",
       "2016-11-10 20:49:44+00:00  other  False  False\n",
       "2016-11-10 20:49:44+00:00  other  False  False\n",
       "2016-11-10 20:49:44+00:00  other  False  False\n",
       "2016-11-22 01:33:38+00:00  other  False  False\n",
       "2016-11-10 20:49:44+00:00  other  False  False\n",
       "\n",
       "[1141377 rows x 3 columns]"
      ]
     },
     "execution_count": 20,
     "metadata": {},
     "output_type": "execute_result"
    }
   ],
   "source": [
    "df = pd.DataFrame(\n",
    "    {\n",
    "        \"type\": [x[\"type\"] for batch in batches1 + batches2 for x in batch],\n",
    "        \"py2\": [x[\"py2\"] for batch in batches1 + batches2 for x in batch],\n",
    "        \"py3\": [x[\"py3\"] for batch in batches1 + batches2 for x in batch],\n",
    "    },\n",
    "    index=[x[\"date\"] for batch in batches1 + batches2 for x in batch],\n",
    ")\n",
    "df"
   ]
  },
  {
   "cell_type": "code",
   "execution_count": 75,
   "id": "4bbba3f7-833d-461e-a6b8-3c6c7758b9f5",
   "metadata": {
    "tags": []
   },
   "outputs": [
    {
     "data": {
      "image/png": "[encoded data removed]",
      "text/plain": [
       "<Figure size 1300x600 with 2 Axes>"
      ]
     },
     "metadata": {},
     "output_type": "display_data"
    }
   ],
   "source": [
    "fig, (ax1, ax2) = plt.subplots(2, 1, figsize=(13, 6))\n",
    "\n",
    "c = plt.rcParams[\"axes.prop_cycle\"].by_key()[\"color\"]\n",
    "\n",
    "df[\"unparsable\"] = (df[\"type\"] == \"Python\") & ~df[\"py2\"] & ~df[\"py3\"]\n",
    "df[\"Python 2 only\"] = (df[\"type\"] == \"Python\") & df[\"py2\"] & ~df[\"py3\"]\n",
    "df[\"Python 3 only\"] = (df[\"type\"] == \"Python\") & ~df[\"py2\"] & df[\"py3\"]\n",
    "df[\"Python 2 & 3\"] = (df[\"type\"] == \"Python\") & df[\"py2\"] & df[\"py3\"]\n",
    "df[\"Total\"] = df[\"type\"] == \"Python\"\n",
    "\n",
    "df2 = df[[\n",
    "    \"unparsable\",\n",
    "    \"Python 2 only\",\n",
    "    \"Python 3 only\",\n",
    "    \"Python 2 & 3\",\n",
    "    \"Total\"\n",
    "]].resample(\"Q\", origin=pd.to_datetime(\"2013-01-01\")).sum()\n",
    "\n",
    "df2.div(df2[\"Total\"], axis=0)[[\n",
    "    \"unparsable\",\n",
    "    \"Python 2 only\",\n",
    "    \"Python 3 only\",\n",
    "    \"Python 2 & 3\",\n",
    "]].plot.area(ax=ax1, stacked=True, color=[\"gray\", \"orange\", \"green\", \"lightblue\"]);\n",
    "\n",
    "df[\"broken JSON\"] = df[\"type\"] == \"broken-Jupyter\"\n",
    "df[\"unparsable\"] = (df[\"type\"] == \"Jupyter\") & ~df[\"py2\"] & ~df[\"py3\"]\n",
    "df[\"Python 2 only\"] = (df[\"type\"] == \"Jupyter\") & df[\"py2\"] & ~df[\"py3\"]\n",
    "df[\"Python 3 only\"] = (df[\"type\"] == \"Jupyter\") & ~df[\"py2\"] & df[\"py3\"]\n",
    "df[\"Python 2 & 3\"] = (df[\"type\"] == \"Jupyter\") & df[\"py2\"] & df[\"py3\"]\n",
    "df[\"Total\"] = (df[\"type\"] == \"broken-Jupyter\") | (df[\"type\"] == \"Jupyter\")\n",
    "\n",
    "df2 = df[[\n",
    "    \"broken JSON\",\n",
    "    \"unparsable\",\n",
    "    \"Python 2 only\",\n",
    "    \"Python 3 only\",\n",
    "    \"Python 2 & 3\",\n",
    "    \"Total\"\n",
    "]].resample(\"Q\", origin=pd.to_datetime(\"2013-01-01\")).sum()\n",
    "\n",
    "df2.div(df2[\"Total\"], axis=0)[[\n",
    "    \"broken JSON\",\n",
    "    \"unparsable\",\n",
    "    \"Python 2 only\",\n",
    "    \"Python 3 only\",\n",
    "    \"Python 2 & 3\",\n",
    "]].plot.area(ax=ax2, stacked=True, color=[\"magenta\", \"gray\", \"orange\", \"green\", \"lightblue\"]);\n",
    "\n",
    "ax1.set_title(\"particle physicists identified by CMSSW or ROOT and profile bios\");\n",
    "ax1.set_ylim(0, 1);\n",
    "ax1.set_xlim(pd.to_datetime(\"2012-03-01\"), pd.to_datetime(\"2023-03-01\"));\n",
    "ax1.set_xticks([]);\n",
    "ax1.set_ylabel(\"fraction of *.py files\");\n",
    "ax1.set_yticks([0.2, 0.4, 0.6, 0.8, 1.0]);\n",
    "\n",
    "handles, labels = ax1.get_legend_handles_labels();\n",
    "ax1.legend(handles[::-1], labels[::-1], title=\"*.py files\", loc=\"upper left\", facecolor=\"white\", framealpha=1);\n",
    "\n",
    "ax2.set_ylim(0, 1);\n",
    "ax2.set_xlim(pd.to_datetime(\"2012-03-01\"), pd.to_datetime(\"2023-03-01\"));\n",
    "ax2.set_xticks([pd.to_datetime(f\"{x}-01-01\") for x in range(2012, 2023+1)], [str(x) for x in range(2012, 2023+1)]);\n",
    "ax2.set_ylabel(\"fraction of *.ipynb files\");\n",
    "ax2.set_xlabel(\"date of file last modification\");\n",
    "ax2.set_yticks([0.0, 0.2, 0.4, 0.6, 0.8, 1.0]);\n",
    "\n",
    "handles, labels = ax2.get_legend_handles_labels();\n",
    "ax2.legend(handles[::-1], labels[::-1], title=\"*.ipynb files\", loc=\"upper left\", facecolor=\"white\", framealpha=1);\n",
    "\n",
    "plt.subplots_adjust(hspace=0);\n",
    "\n",
    "fig.savefig(\"github-python-2-3-fraction.svg\");\n",
    "fig.savefig(\"github-python-2-3-fraction.pdf\");"
   ]
  },
  {
   "cell_type": "markdown",
   "id": "ca27fefe-6a5c-40f6-b42a-58dc784e6de7",
   "metadata": {},
   "source": [
    "## Question 6"
   ]
  },
  {
   "cell_type": "markdown",
   "id": "d7f69e24-7695-41c5-93d4-95bf863b54ed",
   "metadata": {},
   "source": [
    "Which repos (without the bio cut) import Uproot or Awkward, so that I can ask specific questions about those repos?"
   ]
  },
  {
   "cell_type": "code",
   "execution_count": 98,
   "id": "e5d47558-638e-44bb-a323-b50bb944db05",
   "metadata": {
    "tags": []
   },
   "outputs": [],
   "source": [
    "def calculate_uproot_awkward_search(filename):\n",
    "    # gc.disable()\n",
    "    batch = pickle.load(open(filename, \"rb\"))\n",
    "    if filename.startswith(\"/tmp/cmssw-file-ages\"):\n",
    "        repo_exclude = cmssw_repo_exclude\n",
    "        repo_dir = cmssw_repo_dir\n",
    "    else:\n",
    "        repo_exclude = root_repo_exclude\n",
    "        repo_dir = root_repo_dir\n",
    "\n",
    "    out = []\n",
    "    for reponame, repo in batch.items():\n",
    "        username = reponame.split(\"/\")[0]\n",
    "\n",
    "        if reponame not in repo_exclude:\n",
    "            out_repo = {\"name\": reponame, \"files\": []}\n",
    "            good_repo = False\n",
    "\n",
    "            with tarfile.open(f\"{repo_dir}/{reponame}.tgz\") as repo_tgz:\n",
    "                for info in repo_tgz:\n",
    "                    if info.isfile():\n",
    "                        out_file = {\"name\": info.name, \"type\": None, \"text\": None, \"date\": 0}\n",
    "                        good_file = False\n",
    "\n",
    "                        if info.name.lower().endswith(\".ipynb\"):\n",
    "                            filedata = repo_tgz.extractfile(info).read()\n",
    "                            try:\n",
    "                                jsondata = json.loads(filedata)\n",
    "                            except (json.JSONDecodeError, UnicodeDecodeError):\n",
    "                                pass\n",
    "                            else:\n",
    "                                out_file[\"type\"] = \"ipynb\"\n",
    "                                out_file[\"text\"] = \"\\n\\n\\n\".join([\"\".join(cell[\"source\"]) for cell in jsondata.get(\"cells\", []) if cell[\"cell_type\"] == \"code\"])\n",
    "\n",
    "                        elif info.name.lower().endswith(\".py\"):\n",
    "                            out_file[\"type\"] = \"py\"\n",
    "                            out_file[\"text\"] = repo_tgz.extractfile(info).read().decode(\"utf-8\", errors=\"surrogateescape\")\n",
    "\n",
    "                        if out_file[\"text\"] is not None:\n",
    "                            if re.search(r\"^\\s*(import\\s+(uproot[34]?|awkward[01]?)\\b|from\\s+(uproot[34]?|awkward[01]?)\\s+import)\", out_file[\"text\"], re.M) is not None:\n",
    "                                good_repo = True\n",
    "                                good_file = True\n",
    "\n",
    "                        try:\n",
    "                            out_file[\"date\"] = datetime.strptime(repo[\"/\".join(info.name.split(\"/\")[2:])][0], \"%Y-%m-%d %H:%M:%S %z\").timestamp()\n",
    "                        except (ValueError, KeyError):\n",
    "                            pass\n",
    "\n",
    "                        if good_file:\n",
    "                            out_repo[\"files\"].append(out_file)\n",
    "\n",
    "            if good_repo:\n",
    "                out.append(out_repo)\n",
    "\n",
    "    return out"
   ]
  },
  {
   "cell_type": "code",
   "execution_count": 99,
   "id": "4e247bd2-a8bd-4b95-abe5-0e1b59eeff46",
   "metadata": {
    "tags": []
   },
   "outputs": [],
   "source": [
    "all_file_ages_names = db.from_sequence([f\"/tmp/cmssw-file-ages-{i}.pkl\" for i in range(100)] + [f\"/tmp/root-file-ages-{i}.pkl\" for i in range(100)])"
   ]
  },
  {
   "cell_type": "code",
   "execution_count": 100,
   "id": "cf36e61a-3367-4508-85fd-d87e9de81ae6",
   "metadata": {
    "tags": []
   },
   "outputs": [],
   "source": [
    "batches = all_file_ages_names.map(calculate_uproot_awkward_search).compute()"
   ]
  },
  {
   "cell_type": "code",
   "execution_count": 102,
   "id": "09d548cb-2b0a-4fbd-b071-f4c17a03bee6",
   "metadata": {
    "tags": []
   },
   "outputs": [],
   "source": [
    "json.dump(sum(batches, []), open(\"/home/jpivarski/storage/data/GitHub-all-user-nonfork-uproot-awkward.json\", \"w\"))"
   ]
  }
 ],
 "metadata": {
  "kernelspec": {
   "display_name": "Python 3 (ipykernel)",
   "language": "python",
   "name": "python3"
  },
  "language_info": {
   "codemirror_mode": {
    "name": "ipython",
    "version": 3
   },
   "file_extension": ".py",
   "mimetype": "text/x-python",
   "name": "python",
   "nbconvert_exporter": "python",
   "pygments_lexer": "ipython3",
   "version": "3.9.15"
  }
 },
 "nbformat": 4,
 "nbformat_minor": 5
}
