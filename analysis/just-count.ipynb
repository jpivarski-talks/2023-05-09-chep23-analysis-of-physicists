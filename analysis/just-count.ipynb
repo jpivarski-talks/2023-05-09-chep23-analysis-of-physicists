{
 "cells": [
  {
   "cell_type": "code",
   "execution_count": 1,
   "id": "cbd31e81-24e8-4382-991c-19445360f3cb",
   "metadata": {
    "tags": []
   },
   "outputs": [],
   "source": [
    "import glob\n",
    "\n",
    "import h5py\n",
    "import matplotlib.pyplot as plt\n",
    "import numpy as np\n",
    "import pandas as pd"
   ]
  },
  {
   "cell_type": "code",
   "execution_count": 6,
   "id": "33dc027e-80e6-477b-a20d-9c8d758d8ee0",
   "metadata": {
    "tags": []
   },
   "outputs": [
    {
     "name": "stdout",
     "output_type": "stream",
     "text": [
      "/home/jpivarski/storage/data/GHArchive/GHArchive-2022.h5\n",
      "/home/jpivarski/storage/data/GHArchive/GHArchive-2023.h5\n"
     ]
    }
   ],
   "source": [
    "awkward_repos = np.array(\n",
    "    [\n",
    "        202413762,  # scikit-hep/awkward-1.0\n",
    "        137079949,  # scikit-hep/awkward-array\n",
    "        202413762,  # scikit-hep/awkward\n",
    "        137079949,  # scikit-hep/awkward-0.x\n",
    "        398059046,  # dask-contrib/dask-awkward\n",
    "        511652265,  # intake/awkward-pandas\n",
    "    ]\n",
    ")\n",
    "\n",
    "dfs = []\n",
    "for filename in sorted(glob.glob(\"/home/jpivarski/storage/data/GHArchive/GHArchive-202[2-3].h5\")):\n",
    "    print(filename)\n",
    "    with h5py.File(filename, mode=\"r\") as file:\n",
    "        is_awkward = np.isin(file[\"repo_id\"], awkward_repos)\n",
    "        dfs.append(\n",
    "            pd.DataFrame(\n",
    "                {\n",
    "                    \"timestamp\": file[\"timestamp\"][is_awkward],\n",
    "                    \"actor_id\": file[\"actor_id\"][is_awkward],\n",
    "                    \"event_type_id\": file[\"event_type_id\"][is_awkward],\n",
    "                }\n",
    "            )\n",
    "        )"
   ]
  },
  {
   "cell_type": "code",
   "execution_count": 13,
   "id": "75e690a6-9687-46d1-a26d-4a566bc14317",
   "metadata": {
    "tags": []
   },
   "outputs": [],
   "source": [
    "df = pd.concat(dfs, ignore_index=True)"
   ]
  },
  {
   "cell_type": "code",
   "execution_count": 14,
   "id": "584e3e98-ce84-49e7-8110-672deb92d0f0",
   "metadata": {
    "tags": []
   },
   "outputs": [],
   "source": [
    "df.sort_values(\"timestamp\", inplace=True)"
   ]
  },
  {
   "cell_type": "code",
   "execution_count": 15,
   "id": "5a304312-e16b-4dbd-8773-516cfaa72ffd",
   "metadata": {},
   "outputs": [],
   "source": [
    "df[\"timestamp\"] = pd.to_datetime(df[\"timestamp\"], unit=\"s\")"
   ]
  },
  {
   "cell_type": "code",
   "execution_count": 16,
   "id": "6912225b-92fe-4680-bb67-785608609fac",
   "metadata": {
    "tags": []
   },
   "outputs": [],
   "source": [
    "df.set_index(\"timestamp\", inplace=True)"
   ]
  },
  {
   "cell_type": "code",
   "execution_count": 17,
   "id": "76c8da5f-7372-4bde-a927-3eb62c069b7f",
   "metadata": {
    "tags": []
   },
   "outputs": [],
   "source": [
    "fewer_event_types = {\n",
    "     1: \"comment\",\n",
    "     2: \"\",\n",
    "     3: \"\",\n",
    "     4: \"\",\n",
    "     5: \"star\",\n",
    "     6: \"contribute\",\n",
    "     7: \"star\",\n",
    "     8: \"\",\n",
    "     9: \"\",\n",
    "    10: \"comment\",\n",
    "    11: \"contribute\",\n",
    "    12: \"\",\n",
    "    13: \"\",\n",
    "    14: \"contribute\",\n",
    "    15: \"comment\",\n",
    "    16: \"comment\",\n",
    "    17: \"contribute\",\n",
    "    18: \"\",\n",
    "    19: \"\",\n",
    "    20: \"star\",\n",
    "}"
   ]
  },
  {
   "cell_type": "code",
   "execution_count": 18,
   "id": "69bc6987-c831-471a-8f81-478c290000b5",
   "metadata": {
    "tags": []
   },
   "outputs": [],
   "source": [
    "df[\"is_comment\"] = df[\"event_type_id\"].map(lambda x: fewer_event_types[x] == \"comment\")\n",
    "df[\"is_contribute\"] = df[\"event_type_id\"].map(lambda x: fewer_event_types[x] == \"contribute\")"
   ]
  },
  {
   "cell_type": "code",
   "execution_count": 37,
   "id": "171ead50-c40c-45cb-81a3-167bb7bf6fa2",
   "metadata": {
    "tags": []
   },
   "outputs": [
    {
     "data": {
      "text/plain": [
       "5909"
      ]
     },
     "execution_count": 37,
     "metadata": {},
     "output_type": "execute_result"
    }
   ],
   "source": [
    "np.sum((df.index > \"2021-09-01\") & df[\"is_comment\"])"
   ]
  },
  {
   "cell_type": "code",
   "execution_count": 38,
   "id": "028faf39-e240-4e05-9422-8ebf4f4fc3e8",
   "metadata": {
    "tags": []
   },
   "outputs": [
    {
     "data": {
      "text/plain": [
       "5663"
      ]
     },
     "execution_count": 38,
     "metadata": {},
     "output_type": "execute_result"
    }
   ],
   "source": [
    "np.sum((df.index > \"2021-09-01\") & df[\"is_contribute\"])"
   ]
  },
  {
   "cell_type": "code",
   "execution_count": 39,
   "id": "9c47850e-742a-4787-ba34-4886d34db6c1",
   "metadata": {},
   "outputs": [
    {
     "data": {
      "text/plain": [
       "(79,)"
      ]
     },
     "execution_count": 39,
     "metadata": {},
     "output_type": "execute_result"
    }
   ],
   "source": [
    "df[(df.index > \"2021-09-01\") & (df[\"is_comment\"] | df[\"is_contribute\"])].reset_index()[\"actor_id\"].unique().shape"
   ]
  },
  {
   "cell_type": "code",
   "execution_count": null,
   "id": "c6be938b-138e-42af-95a4-cfc796e6630f",
   "metadata": {},
   "outputs": [],
   "source": []
  }
 ],
 "metadata": {
  "kernelspec": {
   "display_name": "Python 3 (ipykernel)",
   "language": "python",
   "name": "python3"
  },
  "language_info": {
   "codemirror_mode": {
    "name": "ipython",
    "version": 3
   },
   "file_extension": ".py",
   "mimetype": "text/x-python",
   "name": "python",
   "nbconvert_exporter": "python",
   "pygments_lexer": "ipython3",
   "version": "3.9.15"
  }
 },
 "nbformat": 4,
 "nbformat_minor": 5
}
