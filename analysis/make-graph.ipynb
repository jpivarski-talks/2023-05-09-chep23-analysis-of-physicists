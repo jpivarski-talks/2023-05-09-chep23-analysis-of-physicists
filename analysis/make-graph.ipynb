{
 "cells": [
  {
   "cell_type": "code",
   "execution_count": 1,
   "id": "b3cd1c52-8c58-487f-a77b-ce13ae2e040c",
   "metadata": {
    "tags": []
   },
   "outputs": [],
   "source": [
    "import subprocess\n",
    "\n",
    "import numpy as np\n",
    "import pandas as pd\n",
    "import h5py\n",
    "import networkx as nx\n",
    "from ipysigma import Sigma"
   ]
  },
  {
   "cell_type": "code",
   "execution_count": 2,
   "id": "5e4aa125-6623-42aa-bc2a-271459a2e11a",
   "metadata": {
    "tags": []
   },
   "outputs": [],
   "source": [
    "file = h5py.File(\"/home/jpivarski/storage/data/GHArchive/GHArchive-2022-aggregated.h5\")\n",
    "df = pd.DataFrame(\n",
    "    {\n",
    "        \"actor\": file[\"actor_id\"],\n",
    "        \"repo\": file[\"repo_id\"],\n",
    "        \"type\": file[\"event_type_id\"],\n",
    "        \"count\": file[\"count\"],\n",
    "    }\n",
    ")"
   ]
  },
  {
   "cell_type": "code",
   "execution_count": 3,
   "id": "3f19b39e-b637-48fc-ad19-a67b93c913df",
   "metadata": {
    "tags": []
   },
   "outputs": [],
   "source": [
    "bot_actors = np.array(\n",
    "    [\n",
    "        int(line.split(b\"\\t\")[0])\n",
    "        for line in subprocess.Popen(\n",
    "            [\n",
    "                \"fgrep\",\n",
    "                \"[bot]\",\n",
    "                \"/home/jpivarski/storage/data/GHArchive/actor_id_name.txt\",\n",
    "            ],\n",
    "            stdout=subprocess.PIPE,\n",
    "        )\n",
    "        .communicate()[0]\n",
    "        .split(b\"\\n\")\n",
    "        if line != b\"\"\n",
    "    ]\n",
    ")\n",
    "df_no_bots = df[~df.actor.isin(bot_actors)]"
   ]
  },
  {
   "cell_type": "code",
   "execution_count": 4,
   "id": "48dbf79f-c6a1-4a69-866e-c99af6dcf855",
   "metadata": {
    "tags": []
   },
   "outputs": [],
   "source": [
    "event_type_to_id = {\n",
    "    \"PullRequestEvent\": 14,\n",
    "    \"PullRequestReviewCommentEvent\": 15,\n",
    "    \"PullRequestReviewEvent\": 16,\n",
    "    \"PushEvent\": 17,\n",
    "    \"ReleaseEvent\": 18,\n",
    "}"
   ]
  },
  {
   "cell_type": "code",
   "execution_count": 5,
   "id": "3ce527fa-29c9-4c4c-a225-1e3ae8af9334",
   "metadata": {
    "tags": []
   },
   "outputs": [
    {
     "data": {
      "text/html": [
       "<div>\n",
       "<style scoped>\n",
       "    .dataframe tbody tr th:only-of-type {\n",
       "        vertical-align: middle;\n",
       "    }\n",
       "\n",
       "    .dataframe tbody tr th {\n",
       "        vertical-align: top;\n",
       "    }\n",
       "\n",
       "    .dataframe thead th {\n",
       "        text-align: right;\n",
       "    }\n",
       "</style>\n",
       "<table border=\"1\" class=\"dataframe\">\n",
       "  <thead>\n",
       "    <tr style=\"text-align: right;\">\n",
       "      <th></th>\n",
       "      <th>actor</th>\n",
       "      <th>repo</th>\n",
       "      <th>count</th>\n",
       "    </tr>\n",
       "  </thead>\n",
       "  <tbody>\n",
       "    <tr>\n",
       "      <th>0</th>\n",
       "      <td>1641</td>\n",
       "      <td>1349775</td>\n",
       "      <td>11</td>\n",
       "    </tr>\n",
       "    <tr>\n",
       "      <th>1</th>\n",
       "      <td>1796</td>\n",
       "      <td>858127</td>\n",
       "      <td>2</td>\n",
       "    </tr>\n",
       "    <tr>\n",
       "      <th>2</th>\n",
       "      <td>1875</td>\n",
       "      <td>2058</td>\n",
       "      <td>5</td>\n",
       "    </tr>\n",
       "    <tr>\n",
       "      <th>3</th>\n",
       "      <td>2071</td>\n",
       "      <td>65600975</td>\n",
       "      <td>1</td>\n",
       "    </tr>\n",
       "    <tr>\n",
       "      <th>4</th>\n",
       "      <td>3303</td>\n",
       "      <td>37287688</td>\n",
       "      <td>1</td>\n",
       "    </tr>\n",
       "  </tbody>\n",
       "</table>\n",
       "</div>"
      ],
      "text/plain": [
       "   actor      repo  count\n",
       "0   1641   1349775     11\n",
       "1   1796    858127      2\n",
       "2   1875      2058      5\n",
       "3   2071  65600975      1\n",
       "4   3303  37287688      1"
      ]
     },
     "execution_count": 5,
     "metadata": {},
     "output_type": "execute_result"
    }
   ],
   "source": [
    "df_imp_events = df_no_bots[df_no_bots.type.isin(event_type_to_id.values())]\n",
    "seed = pd.read_csv(\"list-of-scientific-python-repo_id.csv\")\n",
    "\n",
    "df_seed = df_imp_events[df_imp_events.repo.isin(seed.repo_id)]\n",
    "df_seed_triples = (\n",
    "    df_seed[[\"actor\", \"repo\", \"count\"]].groupby([\"actor\", \"repo\"]).sum(\"count\")\n",
    ")\n",
    "df_seed_triples.reset_index(inplace=True)\n",
    "\n",
    "df_seed_triples.head()"
   ]
  },
  {
   "cell_type": "code",
   "execution_count": 6,
   "id": "3e3cce99-2db5-4a6a-b618-a1b24d68ac68",
   "metadata": {
    "tags": []
   },
   "outputs": [],
   "source": [
    "G = nx.from_pandas_edgelist(\n",
    "    df_seed_triples, source=\"actor\", target=\"repo\", edge_attr=\"count\"\n",
    ")\n",
    "\n",
    "# Find the largest cc to partition into bipartite sets\n",
    "largest_cc = max(nx.connected_components(G), key=len)\n",
    "actor, repo = nx.bipartite.sets(nx.subgraph(G, largest_cc))\n",
    "\n",
    "projection = nx.bipartite.overlap_weighted_projected_graph(G, repo)"
   ]
  },
  {
   "cell_type": "code",
   "execution_count": 7,
   "id": "0386f7d9-9147-412f-9266-1b3328b14724",
   "metadata": {
    "tags": []
   },
   "outputs": [],
   "source": [
    "seed_map = dict(zip(seed.repo_id, seed.repo_name))"
   ]
  },
  {
   "cell_type": "code",
   "execution_count": 8,
   "id": "cf6e5ce3-aa62-426b-86b9-00e1220d204d",
   "metadata": {
    "tags": []
   },
   "outputs": [],
   "source": [
    "temp = nx.relabel_nodes(projection, seed_map)"
   ]
  },
  {
   "cell_type": "code",
   "execution_count": 9,
   "id": "e9b7672b-886e-407f-80e0-6da3c2451438",
   "metadata": {
    "tags": []
   },
   "outputs": [
    {
     "data": {
      "application/vnd.jupyter.widget-view+json": {
       "model_id": "fb641a70faa34bfc9a8d62936ab2a49f",
       "version_major": 2,
       "version_minor": 0
      },
      "text/plain": [
       "Sigma(nx.Graph with 158 nodes and 1,502 edges)"
      ]
     },
     "execution_count": 9,
     "metadata": {},
     "output_type": "execute_result"
    }
   ],
   "source": [
    "Sigma(temp, node_size=temp.degree, node_metrics=[\"louvain\"], node_color=\"louvain\", label_density=3)"
   ]
  }
 ],
 "metadata": {
  "kernelspec": {
   "display_name": "Python 3 (ipykernel)",
   "language": "python",
   "name": "python3"
  },
  "language_info": {
   "codemirror_mode": {
    "name": "ipython",
    "version": 3
   },
   "file_extension": ".py",
   "mimetype": "text/x-python",
   "name": "python",
   "nbconvert_exporter": "python",
   "pygments_lexer": "ipython3",
   "version": "3.9.15"
  }
 },
 "nbformat": 4,
 "nbformat_minor": 5
}
