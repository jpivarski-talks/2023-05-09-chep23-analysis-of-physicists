{
 "cells": [
  {
   "cell_type": "code",
   "execution_count": 1,
   "id": "2b820e39-0489-4b5a-81cf-35ea338f3e8c",
   "metadata": {
    "tags": []
   },
   "outputs": [],
   "source": [
    "import glob\n",
    "import subprocess\n",
    "\n",
    "import h5py\n",
    "import matplotlib.pyplot as plt\n",
    "import numpy as np\n",
    "import pandas as pd"
   ]
  },
  {
   "cell_type": "code",
   "execution_count": 2,
   "id": "c90b0fe9-47d2-46cc-b83a-5aa1762d14db",
   "metadata": {
    "tags": []
   },
   "outputs": [],
   "source": [
    "dfs = [\n",
    "    pd.DataFrame(dict(h5py.File(filename, \"r\")))\n",
    "    for filename in sorted(\n",
    "        glob.glob(\"/home/jpivarski/storage/data/GHArchive/GHArchive-*-aggregated.h5\")\n",
    "    )\n",
    "]\n",
    "for df, year in zip(dfs, range(2015, 2323 + 1)):\n",
    "    df[\"year\"] = year\n",
    "df = pd.concat(dfs, ignore_index=True)\n",
    "del dfs"
   ]
  },
  {
   "cell_type": "code",
   "execution_count": 3,
   "id": "f8f68b18-d3b8-4fea-85d3-bff916828212",
   "metadata": {
    "tags": []
   },
   "outputs": [
    {
     "data": {
      "text/html": [
       "<div>\n",
       "<style scoped>\n",
       "    .dataframe tbody tr th:only-of-type {\n",
       "        vertical-align: middle;\n",
       "    }\n",
       "\n",
       "    .dataframe tbody tr th {\n",
       "        vertical-align: top;\n",
       "    }\n",
       "\n",
       "    .dataframe thead th {\n",
       "        text-align: right;\n",
       "    }\n",
       "</style>\n",
       "<table border=\"1\" class=\"dataframe\">\n",
       "  <thead>\n",
       "    <tr style=\"text-align: right;\">\n",
       "      <th></th>\n",
       "      <th>actor_id</th>\n",
       "      <th>count</th>\n",
       "      <th>event_type_id</th>\n",
       "      <th>repo_id</th>\n",
       "      <th>year</th>\n",
       "    </tr>\n",
       "  </thead>\n",
       "  <tbody>\n",
       "    <tr>\n",
       "      <th>0</th>\n",
       "      <td>13203</td>\n",
       "      <td>1</td>\n",
       "      <td>20</td>\n",
       "      <td>1</td>\n",
       "      <td>2015</td>\n",
       "    </tr>\n",
       "    <tr>\n",
       "      <th>1</th>\n",
       "      <td>14975</td>\n",
       "      <td>1</td>\n",
       "      <td>20</td>\n",
       "      <td>1</td>\n",
       "      <td>2015</td>\n",
       "    </tr>\n",
       "    <tr>\n",
       "      <th>2</th>\n",
       "      <td>27893</td>\n",
       "      <td>1</td>\n",
       "      <td>7</td>\n",
       "      <td>1</td>\n",
       "      <td>2015</td>\n",
       "    </tr>\n",
       "    <tr>\n",
       "      <th>3</th>\n",
       "      <td>27893</td>\n",
       "      <td>1</td>\n",
       "      <td>20</td>\n",
       "      <td>1</td>\n",
       "      <td>2015</td>\n",
       "    </tr>\n",
       "    <tr>\n",
       "      <th>4</th>\n",
       "      <td>31752</td>\n",
       "      <td>2</td>\n",
       "      <td>10</td>\n",
       "      <td>1</td>\n",
       "      <td>2015</td>\n",
       "    </tr>\n",
       "    <tr>\n",
       "      <th>...</th>\n",
       "      <td>...</td>\n",
       "      <td>...</td>\n",
       "      <td>...</td>\n",
       "      <td>...</td>\n",
       "      <td>...</td>\n",
       "    </tr>\n",
       "    <tr>\n",
       "      <th>1235832676</th>\n",
       "      <td>54982819</td>\n",
       "      <td>3</td>\n",
       "      <td>2</td>\n",
       "      <td>634695657</td>\n",
       "      <td>2023</td>\n",
       "    </tr>\n",
       "    <tr>\n",
       "      <th>1235832677</th>\n",
       "      <td>54982819</td>\n",
       "      <td>1</td>\n",
       "      <td>17</td>\n",
       "      <td>634695657</td>\n",
       "      <td>2023</td>\n",
       "    </tr>\n",
       "    <tr>\n",
       "      <th>1235832678</th>\n",
       "      <td>72999089</td>\n",
       "      <td>1</td>\n",
       "      <td>2</td>\n",
       "      <td>634695659</td>\n",
       "      <td>2023</td>\n",
       "    </tr>\n",
       "    <tr>\n",
       "      <th>1235832679</th>\n",
       "      <td>123601168</td>\n",
       "      <td>1</td>\n",
       "      <td>2</td>\n",
       "      <td>634695660</td>\n",
       "      <td>2023</td>\n",
       "    </tr>\n",
       "    <tr>\n",
       "      <th>1235832680</th>\n",
       "      <td>73669654</td>\n",
       "      <td>1</td>\n",
       "      <td>2</td>\n",
       "      <td>634695661</td>\n",
       "      <td>2023</td>\n",
       "    </tr>\n",
       "  </tbody>\n",
       "</table>\n",
       "<p>1235832681 rows × 5 columns</p>\n",
       "</div>"
      ],
      "text/plain": [
       "             actor_id  count  event_type_id    repo_id  year\n",
       "0               13203      1             20          1  2015\n",
       "1               14975      1             20          1  2015\n",
       "2               27893      1              7          1  2015\n",
       "3               27893      1             20          1  2015\n",
       "4               31752      2             10          1  2015\n",
       "...               ...    ...            ...        ...   ...\n",
       "1235832676   54982819      3              2  634695657  2023\n",
       "1235832677   54982819      1             17  634695657  2023\n",
       "1235832678   72999089      1              2  634695659  2023\n",
       "1235832679  123601168      1              2  634695660  2023\n",
       "1235832680   73669654      1              2  634695661  2023\n",
       "\n",
       "[1235832681 rows x 5 columns]"
      ]
     },
     "execution_count": 3,
     "metadata": {},
     "output_type": "execute_result"
    }
   ],
   "source": [
    "df"
   ]
  },
  {
   "cell_type": "markdown",
   "id": "3fc590f6-73d4-40dd-898f-820649d0de3a",
   "metadata": {},
   "source": [
    "Look at a few Scikit-HEP repos, which we understand to be typical software libaries and we know who the authors are."
   ]
  },
  {
   "cell_type": "code",
   "execution_count": 4,
   "id": "a3e1dd60-bfe8-4fe7-96ca-cbda0c711b88",
   "metadata": {
    "tags": []
   },
   "outputs": [
    {
     "data": {
      "text/html": [
       "<div>\n",
       "<style scoped>\n",
       "    .dataframe tbody tr th:only-of-type {\n",
       "        vertical-align: middle;\n",
       "    }\n",
       "\n",
       "    .dataframe tbody tr th {\n",
       "        vertical-align: top;\n",
       "    }\n",
       "\n",
       "    .dataframe thead th {\n",
       "        text-align: right;\n",
       "    }\n",
       "</style>\n",
       "<table border=\"1\" class=\"dataframe\">\n",
       "  <thead>\n",
       "    <tr style=\"text-align: right;\">\n",
       "      <th></th>\n",
       "      <th>actor_id</th>\n",
       "      <th>event_type_id</th>\n",
       "      <th>count</th>\n",
       "    </tr>\n",
       "  </thead>\n",
       "  <tbody>\n",
       "    <tr>\n",
       "      <th>0</th>\n",
       "      <td>3856</td>\n",
       "      <td>20</td>\n",
       "      <td>1</td>\n",
       "    </tr>\n",
       "    <tr>\n",
       "      <th>1</th>\n",
       "      <td>8851</td>\n",
       "      <td>10</td>\n",
       "      <td>2</td>\n",
       "    </tr>\n",
       "    <tr>\n",
       "      <th>2</th>\n",
       "      <td>15233</td>\n",
       "      <td>20</td>\n",
       "      <td>1</td>\n",
       "    </tr>\n",
       "    <tr>\n",
       "      <th>3</th>\n",
       "      <td>23151</td>\n",
       "      <td>10</td>\n",
       "      <td>1</td>\n",
       "    </tr>\n",
       "    <tr>\n",
       "      <th>4</th>\n",
       "      <td>45071</td>\n",
       "      <td>10</td>\n",
       "      <td>7</td>\n",
       "    </tr>\n",
       "    <tr>\n",
       "      <th>...</th>\n",
       "      <td>...</td>\n",
       "      <td>...</td>\n",
       "      <td>...</td>\n",
       "    </tr>\n",
       "    <tr>\n",
       "      <th>1725</th>\n",
       "      <td>123247611</td>\n",
       "      <td>20</td>\n",
       "      <td>2</td>\n",
       "    </tr>\n",
       "    <tr>\n",
       "      <th>1726</th>\n",
       "      <td>127864190</td>\n",
       "      <td>10</td>\n",
       "      <td>1</td>\n",
       "    </tr>\n",
       "    <tr>\n",
       "      <th>1727</th>\n",
       "      <td>127864190</td>\n",
       "      <td>11</td>\n",
       "      <td>1</td>\n",
       "    </tr>\n",
       "    <tr>\n",
       "      <th>1728</th>\n",
       "      <td>127886291</td>\n",
       "      <td>20</td>\n",
       "      <td>1</td>\n",
       "    </tr>\n",
       "    <tr>\n",
       "      <th>1729</th>\n",
       "      <td>129542635</td>\n",
       "      <td>7</td>\n",
       "      <td>2</td>\n",
       "    </tr>\n",
       "  </tbody>\n",
       "</table>\n",
       "<p>1730 rows × 3 columns</p>\n",
       "</div>"
      ],
      "text/plain": [
       "       actor_id  event_type_id  count\n",
       "0          3856             20      1\n",
       "1          8851             10      2\n",
       "2         15233             20      1\n",
       "3         23151             10      1\n",
       "4         45071             10      7\n",
       "...         ...            ...    ...\n",
       "1725  123247611             20      2\n",
       "1726  127864190             10      1\n",
       "1727  127864190             11      1\n",
       "1728  127886291             20      1\n",
       "1729  129542635              7      2\n",
       "\n",
       "[1730 rows x 3 columns]"
      ]
     },
     "execution_count": 4,
     "metadata": {},
     "output_type": "execute_result"
    }
   ],
   "source": [
    "df_few = df[\n",
    "    #               particle                      vector                        pyhf             boost-histogram                   cabinetry                     fastjet                         hist                  iminuit\n",
    "    (df.repo_id == 158364052) | (df.repo_id == 217698030) | (df.repo_id == 118789569) | (df.repo_id == 148885351) | (df.repo_id == 259414004) | (df.repo_id == 358288382) | (df.repo_id == 239605861) | (df.repo_id == 7228447)\n",
    "].drop(columns=[\"repo_id\"]).groupby([\"actor_id\", \"event_type_id\"]).sum().drop(columns=[\"year\"]).reset_index()\n",
    "df_few"
   ]
  },
  {
   "cell_type": "markdown",
   "id": "f1ca19c8-e3fe-4411-b6bc-719d338826ff",
   "metadata": {},
   "source": [
    "Select the audience of these repos: not bots and not the authors."
   ]
  },
  {
   "cell_type": "code",
   "execution_count": 5,
   "id": "5b5d36b9-88df-4445-ba72-60e49b234b95",
   "metadata": {
    "tags": []
   },
   "outputs": [],
   "source": [
    "df_audience = df_few[\n",
    "    #             dependabot[bot]              pre-commit-ci[bot]            azure-pipelines[bot]                sourcery-ai[bot]            allcontributors[bot]            allcontributors[bot]\n",
    "    (df_few.actor_id != 49699333) & (df_few.actor_id != 66853113) & (df_few.actor_id != 36771401) & (df_few.actor_id != 58596630) & (df_few.actor_id != 34387503) & (df_few.actor_id != 46447321) &\n",
    "    #                   henryiii             eduardo-rodrigues                     Saransh-cpp                      jpivarski\n",
    "    (df_few.actor_id != 4616906) & (df_few.actor_id != 5013581) & (df_few.actor_id != 74055102) & (df_few.actor_id != 1852447) &\n",
    "    #            matthewfeickert                 lukasheinrich                        kratsg                  alexander-held\n",
    "    (df_few.actor_id != 5142394) & (df_few.actor_id != 2318083) & (df_few.actor_id != 761483) & (df_few.actor_id != 45009355) &\n",
    "    #                  aryan26roy                   LovelyBuggies                    amangoel185                     HDembinski                        piti118                          cdeil\n",
    "    (df_few.actor_id != 50577809) & (df_few.actor_id != 29083689) & (df_few.actor_id != 10528392) & (df_few.actor_id != 2631586) & (df_few.actor_id != 591316) &  (df_few.actor_id != 852409)\n",
    "]"
   ]
  },
  {
   "cell_type": "markdown",
   "id": "7213cfa0-cac8-4411-925b-3bd22a1d83a7",
   "metadata": {},
   "source": [
    "Select the authors, not bots."
   ]
  },
  {
   "cell_type": "code",
   "execution_count": 6,
   "id": "e3d7ee4f-cdee-4fa4-bcdb-e7cf17f31fa3",
   "metadata": {
    "tags": []
   },
   "outputs": [],
   "source": [
    "df_author = df_few[\n",
    "    #             dependabot[bot]              pre-commit-ci[bot]            azure-pipelines[bot]                sourcery-ai[bot]            allcontributors[bot]            allcontributors[bot]\n",
    "    (df_few.actor_id != 49699333) & (df_few.actor_id != 66853113) & (df_few.actor_id != 36771401) & (df_few.actor_id != 58596630) & (df_few.actor_id != 34387503) & (df_few.actor_id != 46447321) &  (\n",
    "    #                   henryiii             eduardo-rodrigues                     Saransh-cpp                      jpivarski\n",
    "    (df_few.actor_id == 4616906) | (df_few.actor_id == 5013581) | (df_few.actor_id == 74055102) | (df_few.actor_id == 1852447) |\n",
    "    #            matthewfeickert                 lukasheinrich                        kratsg                  alexander-held\n",
    "    (df_few.actor_id == 5142394) | (df_few.actor_id == 2318083) | (df_few.actor_id == 761483) | (df_few.actor_id == 45009355) |\n",
    "    #                  aryan26roy                   LovelyBuggies                    amangoel185                     HDembinski                        piti118                          cdeil\n",
    "    (df_few.actor_id == 50577809) | (df_few.actor_id == 29083689) | (df_few.actor_id == 10528392) | (df_few.actor_id == 2631586) | (df_few.actor_id == 591316) |  (df_few.actor_id == 852409)  )\n",
    "]"
   ]
  },
  {
   "cell_type": "markdown",
   "id": "23642e37-ce05-4d72-908f-00fcca1879cb",
   "metadata": {},
   "source": [
    "After looking at all the event types, I narrowed in on these because they're fairly common and are comments/social engagement (not pushes or pull requests)."
   ]
  },
  {
   "cell_type": "code",
   "execution_count": 7,
   "id": "5b68d337-9ff4-40df-b29f-1ddec752ad48",
   "metadata": {
    "tags": []
   },
   "outputs": [
    {
     "data": {
      "image/png": "[encoded data removed]",
      "text/plain": [
       "<Figure size 1000x500 with 4 Axes>"
      ]
     },
     "metadata": {},
     "output_type": "display_data"
    }
   ],
   "source": [
    "df_audience[\n",
    "    #               IssueCommentEvent                         IssuesEvent      PullRequestReviewCommentEvent              PullRequestReviewEvent\n",
    "    (df_audience.event_type_id == 10) | (df_audience.event_type_id == 11) | (df_audience.event_type_id == 15) | (df_audience.event_type_id == 16)\n",
    "].hist(\"count\", by=[\"event_type_id\"], bins=100, range=(0, 300), figsize=(10, 5));"
   ]
  },
  {
   "cell_type": "markdown",
   "id": "e7eef593-4f16-44de-afab-1fce8997d3b5",
   "metadata": {},
   "source": [
    "Very different distributions between the audience (above) and the authors."
   ]
  },
  {
   "cell_type": "code",
   "execution_count": 8,
   "id": "593c57a7-68a6-4a26-aec8-2bad21a761f0",
   "metadata": {
    "tags": []
   },
   "outputs": [
    {
     "data": {
      "image/png": "[encoded data removed]",
      "text/plain": [
       "<Figure size 1000x500 with 4 Axes>"
      ]
     },
     "metadata": {},
     "output_type": "display_data"
    }
   ],
   "source": [
    "df_author[\n",
    "    #            IssueCommentEvent                       IssuesEvent     PullRequestReviewCommentEvent            PullRequestReviewEvent\n",
    "    (df_author.event_type_id == 10) | (df_author.event_type_id == 11) | (df_author.event_type_id == 15) | (df_author.event_type_id == 16)\n",
    "].hist(\"count\", by=[\"event_type_id\"], bins=100, range=(0, 300), figsize=(10, 5));"
   ]
  },
  {
   "cell_type": "markdown",
   "id": "adacaa56-a41e-4946-951f-42349177e32b",
   "metadata": {},
   "source": [
    "Still selecting these comment event types, but aggregating over them. Just the audience below."
   ]
  },
  {
   "cell_type": "code",
   "execution_count": 9,
   "id": "9df1f1ff-0919-4e72-8468-dceba4a9855b",
   "metadata": {
    "tags": []
   },
   "outputs": [
    {
     "data": {
      "image/png": "[encoded data removed]",
      "text/plain": [
       "<Figure size 1000x500 with 1 Axes>"
      ]
     },
     "metadata": {},
     "output_type": "display_data"
    }
   ],
   "source": [
    "df_audience[\n",
    "    #               IssueCommentEvent                         IssuesEvent      PullRequestReviewCommentEvent              PullRequestReviewEvent\n",
    "    (df_audience.event_type_id == 10) | (df_audience.event_type_id == 11) | (df_audience.event_type_id == 15) | (df_audience.event_type_id == 16)\n",
    "].groupby(\"actor_id\")[\"count\"].sum().hist(bins=100, range=(0, 300), figsize=(10, 5));"
   ]
  },
  {
   "cell_type": "markdown",
   "id": "b71ea60f-9177-4151-8e6d-2a31033abac0",
   "metadata": {},
   "source": [
    "Just the authors below."
   ]
  },
  {
   "cell_type": "code",
   "execution_count": 10,
   "id": "47a52eba-67f4-4354-b215-4cda7c1fcf10",
   "metadata": {
    "tags": []
   },
   "outputs": [
    {
     "data": {
      "image/png": "[encoded data removed]",
      "text/plain": [
       "<Figure size 1000x500 with 1 Axes>"
      ]
     },
     "metadata": {},
     "output_type": "display_data"
    }
   ],
   "source": [
    "df_author[\n",
    "    #            IssueCommentEvent                       IssuesEvent     PullRequestReviewCommentEvent            PullRequestReviewEvent\n",
    "    (df_author.event_type_id == 10) | (df_author.event_type_id == 11) | (df_author.event_type_id == 15) | (df_author.event_type_id == 16)\n",
    "].groupby(\"actor_id\")[\"count\"].sum().hist(bins=100, range=(0, 300), figsize=(10, 5));"
   ]
  },
  {
   "cell_type": "markdown",
   "id": "4e454475-37a9-4159-9c3c-171b60f5bbf9",
   "metadata": {},
   "source": [
    "Zoom in on the audience to see where one might cut the peak."
   ]
  },
  {
   "cell_type": "code",
   "execution_count": 11,
   "id": "8289d784-f66c-4f7f-8c3b-bc6b4477f754",
   "metadata": {
    "tags": []
   },
   "outputs": [
    {
     "data": {
      "text/plain": [
       "actor_id\n",
       "8851         2\n",
       "23151        1\n",
       "45071        7\n",
       "52753        2\n",
       "54418        1\n",
       "            ..\n",
       "98302868     7\n",
       "101270230    1\n",
       "112505512    1\n",
       "120186729    2\n",
       "127864190    2\n",
       "Name: count, Length: 337, dtype: uint32"
      ]
     },
     "execution_count": 11,
     "metadata": {},
     "output_type": "execute_result"
    }
   ],
   "source": [
    "df_audience[\n",
    "    #               IssueCommentEvent                         IssuesEvent      PullRequestReviewCommentEvent              PullRequestReviewEvent\n",
    "    (df_audience.event_type_id == 10) | (df_audience.event_type_id == 11) | (df_audience.event_type_id == 15) | (df_audience.event_type_id == 16)\n",
    "].groupby(\"actor_id\")[\"count\"].sum()"
   ]
  },
  {
   "cell_type": "code",
   "execution_count": 12,
   "id": "bb612c11-04ee-4e78-b48f-122eef1ff3a1",
   "metadata": {
    "tags": []
   },
   "outputs": [
    {
     "data": {
      "image/png": "[encoded data removed]",
      "text/plain": [
       "<Figure size 640x480 with 1 Axes>"
      ]
     },
     "metadata": {},
     "output_type": "display_data"
    }
   ],
   "source": [
    "df_audience[\n",
    "    #               IssueCommentEvent                         IssuesEvent      PullRequestReviewCommentEvent              PullRequestReviewEvent\n",
    "    (df_audience.event_type_id == 10) | (df_audience.event_type_id == 11) | (df_audience.event_type_id == 15) | (df_audience.event_type_id == 16)\n",
    "].groupby(\"actor_id\")[\"count\"].sum().hist(bins=21, range=(-0.5, 20.5));"
   ]
  },
  {
   "cell_type": "markdown",
   "id": "70ec3c4b-950e-479d-bc5d-a94493a71810",
   "metadata": {},
   "source": [
    "Okay, back to the big data sample, but get rid of bots and all events other than comments."
   ]
  },
  {
   "cell_type": "code",
   "execution_count": null,
   "id": "27d61904-7ab8-4e33-b427-4a31bcf6f9d2",
   "metadata": {},
   "outputs": [],
   "source": [
    "def df"
   ]
  },
  {
   "cell_type": "code",
   "execution_count": 2,
   "id": "273598ed-63d3-4bdd-a1e6-6a51dc98cb29",
   "metadata": {
    "tags": []
   },
   "outputs": [],
   "source": [
    "bot_actors = np.array(\n",
    "    [\n",
    "        int(line.split(b\"\\t\")[0])\n",
    "        for line in subprocess.Popen(\n",
    "            [\n",
    "                \"fgrep\",\n",
    "                \"[bot]\",\n",
    "                \"/home/jpivarski/storage/data/GHArchive/actor_id_name.txt\",\n",
    "            ],\n",
    "            stdout=subprocess.PIPE,\n",
    "        )\n",
    "        .communicate()[0]\n",
    "        .split(b\"\\n\")\n",
    "        if line != b\"\"\n",
    "    ]\n",
    ")"
   ]
  },
  {
   "cell_type": "code",
   "execution_count": 3,
   "id": "9296bd23-d547-4f42-abe3-3a97c2f43a40",
   "metadata": {
    "tags": []
   },
   "outputs": [],
   "source": [
    "dfs = [\n",
    "    pd.DataFrame(dict(h5py.File(filename, \"r\")))\n",
    "    for filename in sorted(\n",
    "        glob.glob(\"/home/jpivarski/storage/data/GHArchive/GHArchive-*-aggregated.h5\")\n",
    "    )\n",
    "]\n",
    "dfs = [df[(~df.actor_id.isin(bot_actors)) & (df.event_type_id.isin([10, 11, 15, 16]))] for df in dfs]\n",
    "df = pd.concat(dfs, ignore_index=True)\n",
    "del dfs"
   ]
  },
  {
   "cell_type": "code",
   "execution_count": 6,
   "id": "d835e1ee-7ae1-4cb6-bb22-213e8b6840a1",
   "metadata": {
    "tags": []
   },
   "outputs": [],
   "source": [
    "actor_repo = df.groupby([\"actor_id\", \"repo_id\"])[\"count\"].sum()"
   ]
  },
  {
   "cell_type": "code",
   "execution_count": 7,
   "id": "97fc05e7-02ce-489e-b29d-32580e4e568c",
   "metadata": {
    "tags": []
   },
   "outputs": [
    {
     "data": {
      "text/plain": [
       "actor_id   repo_id  \n",
       "0          31659554     1\n",
       "           32611596     4\n",
       "           41881900     1\n",
       "           42009758     1\n",
       "           54378638     1\n",
       "                       ..\n",
       "132236041  14779007     1\n",
       "132236151  626084870    1\n",
       "132236265  499184667    2\n",
       "132236310  462771409    1\n",
       "132236517  560704231    1\n",
       "Name: count, Length: 53220123, dtype: uint32"
      ]
     },
     "execution_count": 7,
     "metadata": {},
     "output_type": "execute_result"
    }
   ],
   "source": [
    "actor_repo"
   ]
  },
  {
   "cell_type": "markdown",
   "id": "4b26768b-9d3a-4102-8882-092f38568fc8",
   "metadata": {},
   "source": [
    "How many comments does an actor typically leave on a repo?"
   ]
  },
  {
   "cell_type": "code",
   "execution_count": 25,
   "id": "4b2fc327-5724-4d99-89c9-a83222ec9b50",
   "metadata": {
    "tags": []
   },
   "outputs": [
    {
     "data": {
      "image/png": "[encoded data removed]",
      "text/plain": [
       "<Figure size 640x480 with 1 Axes>"
      ]
     },
     "metadata": {},
     "output_type": "display_data"
    }
   ],
   "source": [
    "actor_repo.hist(bins=101, range=(-0.5, 100.5));"
   ]
  },
  {
   "cell_type": "code",
   "execution_count": 26,
   "id": "35fa317d-4692-4a1c-82cd-f645df2854d2",
   "metadata": {
    "tags": []
   },
   "outputs": [
    {
     "data": {
      "image/png": "[encoded data removed]",
      "text/plain": [
       "<Figure size 640x480 with 1 Axes>"
      ]
     },
     "metadata": {},
     "output_type": "display_data"
    }
   ],
   "source": [
    "np.log10(actor_repo).hist(bins=100, range=(0, 3));"
   ]
  },
  {
   "cell_type": "code",
   "execution_count": 11,
   "id": "1d9bd4c2-8855-4e2f-a22f-aa5be2c187f1",
   "metadata": {
    "tags": []
   },
   "outputs": [],
   "source": [
    "num_comments_by_actor = actor_repo.reset_index().groupby(\"actor_id\")[\"count\"].sum()"
   ]
  },
  {
   "cell_type": "markdown",
   "id": "fdab5a38-45ca-4c1b-bc4d-01aefb5a7c4b",
   "metadata": {},
   "source": [
    "How many comments does an actor typically leave at all (summed over repos)?"
   ]
  },
  {
   "cell_type": "code",
   "execution_count": 18,
   "id": "3dfddd2c-cfd3-4ce3-aea0-c74ff8c3806e",
   "metadata": {
    "tags": []
   },
   "outputs": [
    {
     "data": {
      "text/plain": [
       "<Axes: >"
      ]
     },
     "execution_count": 18,
     "metadata": {},
     "output_type": "execute_result"
    },
    {
     "data": {
      "image/png": "[encoded data removed]",
      "text/plain": [
       "<Figure size 640x480 with 1 Axes>"
      ]
     },
     "metadata": {},
     "output_type": "display_data"
    }
   ],
   "source": [
    "num_comments_by_actor.hist(bins=101, range=(-0.5, 100.5))"
   ]
  },
  {
   "cell_type": "code",
   "execution_count": 20,
   "id": "b50d8a2f-e4e7-4efd-aa62-90a5273a6420",
   "metadata": {
    "tags": []
   },
   "outputs": [
    {
     "data": {
      "text/plain": [
       "<Axes: >"
      ]
     },
     "execution_count": 20,
     "metadata": {},
     "output_type": "execute_result"
    },
    {
     "data": {
      "image/png": "[encoded data removed]",
      "text/plain": [
       "<Figure size 640x480 with 1 Axes>"
      ]
     },
     "metadata": {},
     "output_type": "display_data"
    }
   ],
   "source": [
    "np.log10(num_comments_by_actor).hist(bins=100, range=(0, 3))"
   ]
  },
  {
   "cell_type": "markdown",
   "id": "1b5237f4-e677-4917-b109-e108442621a4",
   "metadata": {},
   "source": [
    "Some actors only comment on one repo (peak at 1). Most spread their comments around to at least 10 (peak near 0)."
   ]
  },
  {
   "cell_type": "code",
   "execution_count": 13,
   "id": "be2ee2ee-f50b-433d-a0ba-6a8e6b014e06",
   "metadata": {
    "tags": []
   },
   "outputs": [
    {
     "data": {
      "image/png": "[encoded data removed]",
      "text/plain": [
       "<Figure size 640x480 with 1 Axes>"
      ]
     },
     "metadata": {},
     "output_type": "display_data"
    }
   ],
   "source": [
    "actor_repo.div(num_comments_by_actor, axis=0, level=0).hist(bins=100, range=(0, 1));"
   ]
  }
 ],
 "metadata": {
  "kernelspec": {
   "display_name": "Python 3 (ipykernel)",
   "language": "python",
   "name": "python3"
  },
  "language_info": {
   "codemirror_mode": {
    "name": "ipython",
    "version": 3
   },
   "file_extension": ".py",
   "mimetype": "text/x-python",
   "name": "python",
   "nbconvert_exporter": "python",
   "pygments_lexer": "ipython3",
   "version": "3.9.15"
  }
 },
 "nbformat": 4,
 "nbformat_minor": 5
}
