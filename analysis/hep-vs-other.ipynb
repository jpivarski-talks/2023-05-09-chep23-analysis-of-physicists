{
 "cells": [
  {
   "cell_type": "code",
   "execution_count": 1,
   "id": "cb3e9607-970b-478c-94e4-ce1ac0316571",
   "metadata": {
    "tags": []
   },
   "outputs": [],
   "source": [
    "import glob\n",
    "\n",
    "import h5py\n",
    "import numpy as np"
   ]
  },
  {
   "cell_type": "code",
   "execution_count": 2,
   "id": "323c64ce-f688-440e-beb1-e79dc882063c",
   "metadata": {
    "tags": []
   },
   "outputs": [
    {
     "name": "stdout",
     "output_type": "stream",
     "text": [
      "/home/jpivarski/storage/data/GHArchive/GHArchive-2015-aggregated.h5\n",
      "0\n",
      "/home/jpivarski/storage/data/GHArchive/GHArchive-2016-aggregated.h5\n",
      "0\n",
      "/home/jpivarski/storage/data/GHArchive/GHArchive-2017-aggregated.h5\n",
      "0\n",
      "/home/jpivarski/storage/data/GHArchive/GHArchive-2018-aggregated.h5\n",
      "31\n",
      "/home/jpivarski/storage/data/GHArchive/GHArchive-2019-aggregated.h5\n",
      "198\n",
      "/home/jpivarski/storage/data/GHArchive/GHArchive-2020-aggregated.h5\n",
      "450\n",
      "/home/jpivarski/storage/data/GHArchive/GHArchive-2021-aggregated.h5\n",
      "767\n",
      "/home/jpivarski/storage/data/GHArchive/GHArchive-2022-aggregated.h5\n",
      "969\n",
      "/home/jpivarski/storage/data/GHArchive/GHArchive-2023-aggregated.h5\n",
      "1026\n"
     ]
    }
   ],
   "source": [
    "awkward_repos = np.array([202413762, 137079949, 202413762, 137079949])\n",
    "distinct_people = set()\n",
    "\n",
    "for filename in sorted(glob.glob(\"/home/jpivarski/storage/data/GHArchive/GHArchive-*-aggregated.h5\")):\n",
    "    print(filename)\n",
    "    with h5py.File(filename, mode=\"r\") as file:\n",
    "        actors = file[\"actor_id\"][np.isin(file[\"repo_id\"], awkward_repos)]\n",
    "        distinct_people.update(actors)\n",
    "    print(len(distinct_people))"
   ]
  },
  {
   "cell_type": "code",
   "execution_count": null,
   "id": "5ad70691-03ca-491c-98a6-6d0316aeaa4d",
   "metadata": {
    "tags": []
   },
   "outputs": [],
   "source": [
    "for line in open(\"/home/jpivarski/storage/data/GHArchive/actor_id_name.txt\"):\n",
    "    idstr, name = line.rstrip(\"\\n\").split(\"\\t\")\n",
    "    if int(idstr) in distinct_people:\n",
    "        # print(line, end=\"\")\n",
    "        pass"
   ]
  },
  {
   "cell_type": "code",
   "execution_count": 23,
   "id": "e91ebf4e-c4f4-4013-8595-0cb134fa02d5",
   "metadata": {},
   "outputs": [],
   "source": [
    "people_usernames = {}\n",
    "people_categories = {}\n",
    "\n",
    "with open(\"distinct_people.txt\") as file:\n",
    "    for line in file:\n",
    "        idstr, username, category = line.rstrip(\"\\n\").split(\"\\t\")\n",
    "        people_usernames[int(idstr)] = username\n",
    "        people_categories[int(idstr)] = category"
   ]
  },
  {
   "cell_type": "code",
   "execution_count": 24,
   "id": "7a61b9c5-efa0-464e-8a1b-43dedb008735",
   "metadata": {},
   "outputs": [
    {
     "data": {
      "text/plain": [
       "{'ACOUSTIC',\n",
       " 'AI',\n",
       " 'ASTRO',\n",
       " 'BIOLOGY',\n",
       " 'CHEMISTRY',\n",
       " 'CS',\n",
       " 'DS',\n",
       " 'ECONOMICS',\n",
       " 'GEO',\n",
       " 'HEALTH',\n",
       " 'HEP',\n",
       " 'IDK',\n",
       " 'MATH',\n",
       " 'MEDICAL',\n",
       " 'PHYSICS',\n",
       " 'QUANT',\n",
       " 'SE'}"
      ]
     },
     "execution_count": 24,
     "metadata": {},
     "output_type": "execute_result"
    }
   ],
   "source": [
    "set(people_categories.values())"
   ]
  },
  {
   "cell_type": "markdown",
   "id": "c9bf861b-c348-4abc-984d-0e886b561c6c",
   "metadata": {},
   "source": [
    "`HEP` versus everything else is the main categorization. This definition of HEP includes dark matter searches, neutrino experiments, and nuclear physics. It is as lenient a definition as possible, including everyone who has ever been in HEP, even if they are not now, and students who do not study HEP but were involved in developing HEP projects (e.g. IRIS-HEP fellows). Thus, when we see \"non-HEP\" in the plot, it really means \"non-HEP,\" interest in Awkward Array that is truly beyond our HEP community.\n",
    "\n",
    "`PHYSICS` includes anything that touches on physics, including materials science and chemistry, that isn't HEP. It can be merged with the single instance of `ACOUSTIC` and the only two instances of `CHEMISTRY`.\n",
    "\n",
    "`BIOLOGY` is mostly neuroscience, but also bioinformatics and genomics. It can be merged with `MEDICAL` and `HEALTH`.\n",
    "\n",
    "`GEO` may be its own group, but it's combining things like Earth sciences, climatology, and geosciences.\n",
    "\n",
    "`SE` (software engineering), `AI` (artificial intelligence), `DS` (data science), `CS` (computer science), and `QUANT` (finance) are hopelessly interchangeable. It was very hard for me to make useful distinctions among them, based on their GitHub info. Nevertheless, I wish I made a separate category for robotics.\n",
    "\n",
    "There's only one instance of `ECONOMICS` and four of `MATH`. They can be included in the giant group above.\n",
    "\n",
    "`IDK` is for everyone who could not be classified. It usually meant that they had no repos, or the only repos they had were forks, and that wasn't enough to tell me their interests.\n",
    "\n",
    "GitHub users who no longer exist (18% of the total) were removed from the sample."
   ]
  },
  {
   "cell_type": "code",
   "execution_count": null,
   "id": "d6016e9f-37a7-4d94-87fb-0dfd0ad2f31e",
   "metadata": {},
   "outputs": [],
   "source": []
  },
  {
   "cell_type": "code",
   "execution_count": null,
   "id": "6edde669-104c-4927-b0cd-605a0326ee85",
   "metadata": {},
   "outputs": [],
   "source": []
  },
  {
   "cell_type": "code",
   "execution_count": null,
   "id": "5d656442-5c1a-4bb9-adee-558782c1609f",
   "metadata": {},
   "outputs": [],
   "source": []
  },
  {
   "cell_type": "code",
   "execution_count": null,
   "id": "3e435d9f-736c-4274-b2b7-b81bb4b70cf2",
   "metadata": {},
   "outputs": [],
   "source": []
  }
 ],
 "metadata": {
  "kernelspec": {
   "display_name": "Python 3 (ipykernel)",
   "language": "python",
   "name": "python3"
  },
  "language_info": {
   "codemirror_mode": {
    "name": "ipython",
    "version": 3
   },
   "file_extension": ".py",
   "mimetype": "text/x-python",
   "name": "python",
   "nbconvert_exporter": "python",
   "pygments_lexer": "ipython3",
   "version": "3.9.15"
  }
 },
 "nbformat": 4,
 "nbformat_minor": 5
}
